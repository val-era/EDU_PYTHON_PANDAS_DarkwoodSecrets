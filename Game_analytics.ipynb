{
 "cells": [
  {
   "cell_type": "markdown",
   "id": "e06910dd",
   "metadata": {
    "id": "e06910dd"
   },
   "source": [
    "# Аналитический проект \"Развитие игровой индустрии в начале XXI века\"\n",
    "\n",
    "- Автор: Игнатьев Валерий\n",
    "- Дата: 30.08.2025"
   ]
  },
  {
   "cell_type": "markdown",
   "id": "4149134c",
   "metadata": {
    "id": "4149134c"
   },
   "source": [
    "### Цели и задачи проекта\n",
    "\n",
    "* Создание аналитической статьи для привлечения новой аудитории к игре «Секреты Темнолесья»;\n",
    "* Комплексный анализ развития игровой индустрии в период 2000-2013 гг;\n",
    "* Анализ объёмов продаж игр разных жанров и региональные предпочтения игроков."
   ]
  },
  {
   "cell_type": "markdown",
   "id": "728986ea",
   "metadata": {
    "id": "728986ea"
   },
   "source": [
    "### Описание данных\n",
    "\n",
    "Данные `/datasets/new_games.csv` содержат информацию о продажах игр разных жанров и платформ, а также пользовательские и экспертные оценки игр:\n",
    "* `Name` — название игры;\n",
    "* `Platform` — название платформы;\n",
    "* `Year of Release` — год выпуска игры;\n",
    "* `Genre` — жанр игры;\n",
    "* `NA sales` — продажи в Северной Америке (в миллионах проданных копий);\n",
    "* `EU sales` — продажи в Европе (в миллионах проданных копий);\n",
    "* `JP sales` — продажи в Японии (в миллионах проданных копий);\n",
    "* `Other sales` — продажи в других странах (в миллионах проданных копий);\n",
    "* `Critic Score` — оценка критиков (от 0 до 100);\n",
    "* `User Score` — оценка пользователей (от 0 до 10);\n",
    "* `Rating` — рейтинг организации ESRB (англ. Entertainment Software Rating Board). Эта ассоциация определяет рейтинг компьютерных игр и присваивает им подходящую возрастную категорию."
   ]
  },
  {
   "cell_type": "markdown",
   "id": "4fecaf95",
   "metadata": {
    "id": "4fecaf95"
   },
   "source": [
    "### Содержимое проекта"
   ]
  },
  {
   "cell_type": "markdown",
   "id": "6f7d21d6",
   "metadata": {
    "id": "6f7d21d6"
   },
   "source": [
    "## 1. Загрузка данных и знакомство с ними\n",
    "\n",
    "- Загрузка необходимых библиотек Python и данных датасета `/datasets/new_games.csv`.\n"
   ]
  },
  {
   "cell_type": "code",
   "execution_count": 1,
   "id": "7c730f10",
   "metadata": {},
   "outputs": [],
   "source": [
    "# Устанавливаем библиотеку для работы с пропусками\n",
    "!pip install missingno -q"
   ]
  },
  {
   "cell_type": "code",
   "execution_count": 2,
   "id": "ebb66dc5",
   "metadata": {
    "id": "ebb66dc5"
   },
   "outputs": [],
   "source": [
    "# Импортируем библиотеку pandas\n",
    "import pandas as pd\n",
    "# Импортируем библиотеку для визуализации пропусков\n",
    "import missingno as msno"
   ]
  },
  {
   "cell_type": "code",
   "execution_count": 3,
   "id": "ce87c1db",
   "metadata": {
    "id": "ce87c1db"
   },
   "outputs": [],
   "source": [
    "# Выгружаем данные из датасета new_games.csv в датафрейм games_df\n",
    "games_df = pd.read_csv('https://code.s3.yandex.net/datasets/new_games.csv')"
   ]
  },
  {
   "cell_type": "code",
   "execution_count": 4,
   "id": "90fee493",
   "metadata": {
    "id": "90fee493"
   },
   "outputs": [
    {
     "name": "stdout",
     "output_type": "stream",
     "text": [
      "<class 'pandas.core.frame.DataFrame'>\n",
      "RangeIndex: 16956 entries, 0 to 16955\n",
      "Data columns (total 11 columns):\n",
      " #   Column           Non-Null Count  Dtype  \n",
      "---  ------           --------------  -----  \n",
      " 0   Name             16954 non-null  object \n",
      " 1   Platform         16956 non-null  object \n",
      " 2   Year of Release  16681 non-null  float64\n",
      " 3   Genre            16954 non-null  object \n",
      " 4   NA sales         16956 non-null  float64\n",
      " 5   EU sales         16956 non-null  object \n",
      " 6   JP sales         16956 non-null  object \n",
      " 7   Other sales      16956 non-null  float64\n",
      " 8   Critic Score     8242 non-null   float64\n",
      " 9   User Score       10152 non-null  object \n",
      " 10  Rating           10085 non-null  object \n",
      "dtypes: float64(4), object(7)\n",
      "memory usage: 1.4+ MB\n"
     ]
    }
   ],
   "source": [
    "# Выводим информацию о датафрейме\n",
    "games_df.info()"
   ]
  },
  {
   "cell_type": "markdown",
   "id": "e0a8705f",
   "metadata": {
    "id": "e0a8705f"
   },
   "source": [
    "**Общий анализ датасета:**\n",
    "* В датасете содержится 11 колонок и 16 956 строк\n",
    "* 4 колонки содержат тип данных `float64` (число с плавающей точкой). 7 колонок содержат тип данных `object` (строковые данные)\n",
    "* Колонки `Platform`, `NA sales`, `EU sales`, `JP sales`, `Other sales` не содержат пропуски. В остальных колонках встречаются пропуски в данных.\n",
    "* Необходимо преобразовать названия столбцов в snake case."
   ]
  },
  {
   "cell_type": "code",
   "execution_count": 5,
   "id": "d7c8eb4b",
   "metadata": {
    "id": "d7c8eb4b"
   },
   "outputs": [
    {
     "data": {
      "text/html": [
       "<div>\n",
       "<style scoped>\n",
       "    .dataframe tbody tr th:only-of-type {\n",
       "        vertical-align: middle;\n",
       "    }\n",
       "\n",
       "    .dataframe tbody tr th {\n",
       "        vertical-align: top;\n",
       "    }\n",
       "\n",
       "    .dataframe thead th {\n",
       "        text-align: right;\n",
       "    }\n",
       "</style>\n",
       "<table border=\"1\" class=\"dataframe\">\n",
       "  <thead>\n",
       "    <tr style=\"text-align: right;\">\n",
       "      <th></th>\n",
       "      <th>Name</th>\n",
       "      <th>Platform</th>\n",
       "      <th>Year of Release</th>\n",
       "      <th>Genre</th>\n",
       "      <th>NA sales</th>\n",
       "      <th>EU sales</th>\n",
       "      <th>JP sales</th>\n",
       "      <th>Other sales</th>\n",
       "      <th>Critic Score</th>\n",
       "      <th>User Score</th>\n",
       "      <th>Rating</th>\n",
       "    </tr>\n",
       "  </thead>\n",
       "  <tbody>\n",
       "    <tr>\n",
       "      <th>0</th>\n",
       "      <td>Wii Sports</td>\n",
       "      <td>Wii</td>\n",
       "      <td>2006.0</td>\n",
       "      <td>Sports</td>\n",
       "      <td>41.36</td>\n",
       "      <td>28.96</td>\n",
       "      <td>3.77</td>\n",
       "      <td>8.45</td>\n",
       "      <td>76.0</td>\n",
       "      <td>8</td>\n",
       "      <td>E</td>\n",
       "    </tr>\n",
       "    <tr>\n",
       "      <th>1</th>\n",
       "      <td>Super Mario Bros.</td>\n",
       "      <td>NES</td>\n",
       "      <td>1985.0</td>\n",
       "      <td>Platform</td>\n",
       "      <td>29.08</td>\n",
       "      <td>3.58</td>\n",
       "      <td>6.81</td>\n",
       "      <td>0.77</td>\n",
       "      <td>NaN</td>\n",
       "      <td>NaN</td>\n",
       "      <td>NaN</td>\n",
       "    </tr>\n",
       "    <tr>\n",
       "      <th>2</th>\n",
       "      <td>Mario Kart Wii</td>\n",
       "      <td>Wii</td>\n",
       "      <td>2008.0</td>\n",
       "      <td>Racing</td>\n",
       "      <td>15.68</td>\n",
       "      <td>12.76</td>\n",
       "      <td>3.79</td>\n",
       "      <td>3.29</td>\n",
       "      <td>82.0</td>\n",
       "      <td>8.3</td>\n",
       "      <td>E</td>\n",
       "    </tr>\n",
       "    <tr>\n",
       "      <th>3</th>\n",
       "      <td>Wii Sports Resort</td>\n",
       "      <td>Wii</td>\n",
       "      <td>2009.0</td>\n",
       "      <td>Sports</td>\n",
       "      <td>15.61</td>\n",
       "      <td>10.93</td>\n",
       "      <td>3.28</td>\n",
       "      <td>2.95</td>\n",
       "      <td>80.0</td>\n",
       "      <td>8</td>\n",
       "      <td>E</td>\n",
       "    </tr>\n",
       "    <tr>\n",
       "      <th>4</th>\n",
       "      <td>Pokemon Red/Pokemon Blue</td>\n",
       "      <td>GB</td>\n",
       "      <td>1996.0</td>\n",
       "      <td>Role-Playing</td>\n",
       "      <td>11.27</td>\n",
       "      <td>8.89</td>\n",
       "      <td>10.22</td>\n",
       "      <td>1.00</td>\n",
       "      <td>NaN</td>\n",
       "      <td>NaN</td>\n",
       "      <td>NaN</td>\n",
       "    </tr>\n",
       "  </tbody>\n",
       "</table>\n",
       "</div>"
      ],
      "text/plain": [
       "                       Name Platform  Year of Release         Genre  NA sales  \\\n",
       "0                Wii Sports      Wii           2006.0        Sports     41.36   \n",
       "1         Super Mario Bros.      NES           1985.0      Platform     29.08   \n",
       "2            Mario Kart Wii      Wii           2008.0        Racing     15.68   \n",
       "3         Wii Sports Resort      Wii           2009.0        Sports     15.61   \n",
       "4  Pokemon Red/Pokemon Blue       GB           1996.0  Role-Playing     11.27   \n",
       "\n",
       "  EU sales JP sales  Other sales  Critic Score User Score Rating  \n",
       "0    28.96     3.77         8.45          76.0          8      E  \n",
       "1     3.58     6.81         0.77           NaN        NaN    NaN  \n",
       "2    12.76     3.79         3.29          82.0        8.3      E  \n",
       "3    10.93     3.28         2.95          80.0          8      E  \n",
       "4     8.89    10.22         1.00           NaN        NaN    NaN  "
      ]
     },
     "execution_count": 5,
     "metadata": {},
     "output_type": "execute_result"
    }
   ],
   "source": [
    "# Выводим первые строки датафрейма на экран\n",
    "games_df.head()"
   ]
  },
  {
   "cell_type": "markdown",
   "id": "c5dbf18d",
   "metadata": {
    "id": "fc561cac"
   },
   "source": [
    "- **Числовые значения с плавающей точкой (float64).** \n",
    "    - К колонкам `NA sales`, `Other sales`, `Critic Score` применен правильный тип данных, но можно уменьшить разрядность до 32. \n",
    "    - Для колонки `Year of Release` тип `float64` некорректен. Для работы со временем обычно происходят преобразования в тип данных `datetime64`, который позволит корректно производить работу с данными. Т.к нам необходим только год, то при вычислении через `.dt.year` присвоится тип данных отличный от даты. Можно преобразовать в тип данных `integer` после обработки NaN.\n",
    "- **Строковые данные (object).** \n",
    "    - Колонка `Name` содержит строковую информацию, к ней применен корректный тип данных.\n",
    "    - Колонки `Platform`, `Genre`, `Rating` также хранят текстовые данные, но их можно рассматривать как категориальные признаки. Для них можно использовать тип `category` для оптимизации памяти и улучшении производительности.\n",
    "    - Колонки `EU sales`, `JP sales`, `User Score` содержат числовые значения с плавающей точкой. Необходимо преобразовать данные колонки в тип данных `float32` для произведения расчетов.\n"
   ]
  },
  {
   "cell_type": "code",
   "execution_count": 6,
   "id": "04a272d0",
   "metadata": {},
   "outputs": [
    {
     "data": {
      "text/plain": [
       "'Минимум - 1980.0. Максимум - 2016.0'"
      ]
     },
     "execution_count": 6,
     "metadata": {},
     "output_type": "execute_result"
    }
   ],
   "source": [
    "# Определяем период, за который присутствуют данные в датафрейме\n",
    "min_date = games_df['Year of Release'].min()\n",
    "max_date = games_df['Year of Release'].max()\n",
    "f\"Минимум - {min_date}. Максимум - {max_date}\""
   ]
  },
  {
   "cell_type": "markdown",
   "id": "26267bc0",
   "metadata": {
    "id": "26267bc0"
   },
   "source": [
    "**В датафрейме нахоятся данные с 1980 года по 2016 год.**"
   ]
  },
  {
   "cell_type": "code",
   "execution_count": 7,
   "id": "81651b8d",
   "metadata": {
    "id": "81651b8d"
   },
   "outputs": [
    {
     "data": {
      "text/plain": [
       "array(['Sports', 'Platform', 'Racing', 'Role-Playing', 'Puzzle', 'Misc',\n",
       "       'Shooter', 'Simulation', 'Action', 'Fighting', 'Adventure',\n",
       "       'Strategy', nan, 'MISC', 'ROLE-PLAYING', 'RACING', 'ACTION',\n",
       "       'SHOOTER', 'FIGHTING', 'SPORTS', 'PLATFORM', 'ADVENTURE',\n",
       "       'SIMULATION', 'PUZZLE', 'STRATEGY'], dtype=object)"
      ]
     },
     "execution_count": 7,
     "metadata": {},
     "output_type": "execute_result"
    }
   ],
   "source": [
    "# Выборочная проверка уникальных значений\n",
    "games_df['Genre'].unique()"
   ]
  },
  {
   "cell_type": "markdown",
   "id": "6886255e",
   "metadata": {
    "id": "191981db"
   },
   "source": [
    "**В датафрейме присутствуют, как явные, так и неявные дубликаты. Пример жанры - Racing, RACING.**"
   ]
  },
  {
   "cell_type": "code",
   "execution_count": 8,
   "id": "ba712661",
   "metadata": {},
   "outputs": [
    {
     "data": {
      "text/plain": [
       "array([76., nan, 82., 80., 89., 58., 87., 91., 61., 97., 95., 77., 88.,\n",
       "       83., 94., 93., 85., 86., 98., 96., 90., 84., 73., 74., 78., 92.,\n",
       "       71., 72., 68., 62., 49., 67., 81., 66., 56., 79., 70., 59., 64.,\n",
       "       75., 60., 63., 69., 50., 25., 42., 44., 55., 48., 57., 29., 47.,\n",
       "       65., 54., 20., 53., 37., 38., 33., 52., 30., 32., 43., 45., 51.,\n",
       "       40., 46., 39., 34., 35., 41., 36., 28., 31., 27., 26., 19., 23.,\n",
       "       24., 21., 17., 22., 13.])"
      ]
     },
     "execution_count": 8,
     "metadata": {},
     "output_type": "execute_result"
    }
   ],
   "source": [
    "# Изучение пропусков в необходимых для группировки колонках с рейтингом\n",
    "games_df['Critic Score'].unique()"
   ]
  },
  {
   "cell_type": "code",
   "execution_count": 9,
   "id": "eace1f27",
   "metadata": {},
   "outputs": [
    {
     "data": {
      "text/plain": [
       "array(['8', nan, '8.3', '8.5', '6.6', '8.4', '8.6', '7.7', '6.3', '7.4',\n",
       "       '8.2', '9', '7.9', '8.1', '8.7', '7.1', '3.4', '5.3', '4.8', '3.2',\n",
       "       '8.9', '6.4', '7.8', '7.5', '2.6', '7.2', '9.2', '7', '7.3', '4.3',\n",
       "       '7.6', '5.7', '5', '9.1', '6.5', 'tbd', '8.8', '6.9', '9.4', '6.8',\n",
       "       '6.1', '6.7', '5.4', '4', '4.9', '4.5', '9.3', '6.2', '4.2', '6',\n",
       "       '3.7', '4.1', '5.8', '5.6', '5.5', '4.4', '4.6', '5.9', '3.9',\n",
       "       '3.1', '2.9', '5.2', '3.3', '4.7', '5.1', '3.5', '2.5', '1.9', '3',\n",
       "       '2.7', '2.2', '2', '9.5', '2.1', '3.6', '2.8', '1.8', '3.8', '0',\n",
       "       '1.6', '9.6', '2.4', '1.7', '1.1', '0.3', '1.5', '0.7', '1.2',\n",
       "       '2.3', '0.5', '1.3', '0.2', '0.6', '1.4', '0.9', '1', '9.7'],\n",
       "      dtype=object)"
      ]
     },
     "execution_count": 9,
     "metadata": {},
     "output_type": "execute_result"
    }
   ],
   "source": [
    "games_df['User Score'].unique()"
   ]
  },
  {
   "cell_type": "markdown",
   "id": "71185e94",
   "metadata": {},
   "source": [
    "В колонке `Critic Score` присутутсвуют значения `NaN`, которые можно интерпретировать как отсутствие рейтинга у игры.\n",
    "\n",
    "В колонке `User Score` присутствуют значения `NaN`, которые можно интерпретировать как отсутствие рейтинга у игры и значения `tbd`, которые означают, что информация ещё не известна или подлежит уточнению. При работе с пропусками учтем эти выводы."
   ]
  },
  {
   "cell_type": "markdown",
   "id": "774bf76e",
   "metadata": {
    "id": "774bf76e"
   },
   "source": [
    "---\n",
    "\n",
    "## 2.  Проверка ошибок в данных и их предобработка\n",
    "\n",
    "\n",
    "### 2.1. Названия, или метки, столбцов датафрейма\n",
    "\n",
    "- Вывод на экран названия всех столбцов датафрейма и проверка их стиля написания.\n",
    "- Приведение всех столбцов к стилю snake case. Названия должны быть в нижнем регистре, а вместо пробелов — подчёркивания."
   ]
  },
  {
   "cell_type": "code",
   "execution_count": 10,
   "id": "b9276a2b",
   "metadata": {
    "id": "b9276a2b"
   },
   "outputs": [
    {
     "data": {
      "text/plain": [
       "Index(['Name', 'Platform', 'Year of Release', 'Genre', 'NA sales', 'EU sales',\n",
       "       'JP sales', 'Other sales', 'Critic Score', 'User Score', 'Rating'],\n",
       "      dtype='object')"
      ]
     },
     "execution_count": 10,
     "metadata": {},
     "output_type": "execute_result"
    }
   ],
   "source": [
    "games_df.columns"
   ]
  },
  {
   "cell_type": "code",
   "execution_count": 11,
   "id": "2cf27432",
   "metadata": {},
   "outputs": [],
   "source": [
    "# Переименовываем названия колонок в snake case\n",
    "games_df.columns = games_df.columns.str.lower().str.replace(\" \", \"_\")"
   ]
  },
  {
   "cell_type": "code",
   "execution_count": 14,
   "id": "336a89f6",
   "metadata": {
    "scrolled": true
   },
   "outputs": [
    {
     "data": {
      "text/plain": [
       "Index(['name', 'platform', 'year_of_release', 'genre', 'na_sales', 'eu_sales',\n",
       "       'jp_sales', 'other_sales', 'critic_score', 'user_score', 'rating'],\n",
       "      dtype='object')"
      ]
     },
     "execution_count": 14,
     "metadata": {},
     "output_type": "execute_result"
    }
   ],
   "source": [
    "games_df.columns"
   ]
  },
  {
   "cell_type": "markdown",
   "id": "41bc6bf8",
   "metadata": {
    "id": "41bc6bf8"
   },
   "source": [
    "### 2.2. Типы данных\n",
    "\n",
    "- Предположить причины некорректных типов данных.\n",
    "- Провести преобразование типов данных."
   ]
  },
  {
   "cell_type": "markdown",
   "id": "44105609",
   "metadata": {
    "id": "8adaac81"
   },
   "source": [
    "<span style=\"color: #6e6e6e;\">\n",
    "    \n",
    "#### Вспомним комментарии ранее\n",
    "- **Числовые значения с плавающей точкой (float64).** \n",
    "    - К колонкам `NA sales`, `Other sales`, `Critic Score` применен правильный тип данных, но можно уменьшить разрядность до 32. \n",
    "    - Для колонки `Year of Release` тип `float64` некорректен. Для работы со временем обычно происходят преобразования в тип данных `datetime64`, который позволит корректно производить работу с данными. Т.к нам необходим только год, то при вычислении через `.dt.year` присвоится тип данных отличный от даты. Можно преобразовать в тип данных `integer` после обработки NaN.\n",
    "- **Строковые данные (object).** \n",
    "    - Колонка `Name` содержит строковую информацию, к ней применен корректный тип данных.\n",
    "    - Колонки `Platform`, `Genre`, `Rating` также хранят текстовые данные, но их можно рассматривать как категориальные признаки. Для них можно использовать тип `category` для оптимизации памяти и улучшении производительности.\n",
    "    - Колонки `EU sales`, `JP sales`, `User Score` содержат числовые значения с плавающей точкой. Необходимо преобразовать данные колонки в тип данных `float32` для произведения расчетов.\n",
    "    \n",
    "</span>"
   ]
  },
  {
   "cell_type": "code",
   "execution_count": 15,
   "id": "e8412c01",
   "metadata": {
    "id": "e8412c01"
   },
   "outputs": [],
   "source": [
    "# Уменьшаем разрядность и преобразуем колонки через pd.to_numeric для обработки ошибок и автоматического выбора разрядности\n",
    "columns_name = ['na_sales', 'eu_sales', 'jp_sales', 'other_sales', 'critic_score', 'user_score']\n",
    "for column in columns_name:\n",
    "    games_df[column] = pd.to_numeric(games_df[column], errors='coerce', downcast='float')"
   ]
  },
  {
   "cell_type": "code",
   "execution_count": 16,
   "id": "9e53cff4",
   "metadata": {
    "id": "9e53cff4"
   },
   "outputs": [],
   "source": [
    "# Меняем тип данных в category\n",
    "columns_name = ['platform', 'genre', 'rating']\n",
    "for column in columns_name:\n",
    "    games_df[column] = games_df[column].astype('category')"
   ]
  },
  {
   "cell_type": "markdown",
   "id": "63378edf",
   "metadata": {
    "id": "63378edf"
   },
   "source": [
    "**Анализ некорректных типов данных:**\n",
    "* Для колонки `Year of Release` тип данных был `float64`. Скорее всего при загрузке данных с NaN значением в датафрейм произошло приведение в тип данных с плавающей точкой.\n",
    "* Колонки `Platform`, `Genre`, `Rating` автоматически загрузились в тип `object` т.к. содержали строковую информацию.\n",
    "* Колонки `EU sales`, `JP sales` содержали значение *unknow*. Эти строчные значения вместо NaN повлияли на тип данных `object` при загрузке в датафрейм.\n",
    "* Колонка `User Score` содержала значение *tbd*. Форматирование этой колонки произведем позже, после анализа пропусков, для детальной аналитики."
   ]
  },
  {
   "cell_type": "markdown",
   "id": "b39893cb",
   "metadata": {
    "id": "b39893cb"
   },
   "source": [
    "### 2.3. Наличие пропусков в данных\n",
    "\n",
    "- Посчитать количество пропусков в каждом столбце в абсолютных и относительных значениях.\n"
   ]
  },
  {
   "cell_type": "code",
   "execution_count": 17,
   "id": "0f1c91a8",
   "metadata": {
    "id": "0f1c91a8"
   },
   "outputs": [
    {
     "data": {
      "text/plain": [
       "name                  2\n",
       "platform              0\n",
       "year_of_release     275\n",
       "genre                 2\n",
       "na_sales              0\n",
       "eu_sales              6\n",
       "jp_sales              4\n",
       "other_sales           0\n",
       "critic_score       8714\n",
       "user_score         9268\n",
       "rating             6871\n",
       "dtype: int64"
      ]
     },
     "execution_count": 17,
     "metadata": {},
     "output_type": "execute_result"
    }
   ],
   "source": [
    "# Считаем абсолютные кол-ва пропусков\n",
    "games_df.isna().sum()"
   ]
  },
  {
   "cell_type": "code",
   "execution_count": 18,
   "id": "b118fcc3",
   "metadata": {},
   "outputs": [
    {
     "data": {
      "text/plain": [
       "name                0.01\n",
       "platform            0.00\n",
       "year_of_release     1.62\n",
       "genre               0.01\n",
       "na_sales            0.00\n",
       "eu_sales            0.04\n",
       "jp_sales            0.02\n",
       "other_sales         0.00\n",
       "critic_score       51.39\n",
       "user_score         54.66\n",
       "rating             40.52\n",
       "dtype: float64"
      ]
     },
     "execution_count": 18,
     "metadata": {},
     "output_type": "execute_result"
    }
   ],
   "source": [
    "# Считаем относительные кол-ва пропусков\n",
    "round(games_df.isna().mean()*100, 2)"
   ]
  },
  {
   "cell_type": "markdown",
   "id": "ce1988d0",
   "metadata": {},
   "source": [
    "**Анализ пропусков в значениях:**\n",
    "* 8 колонок содержат пропуска.\n",
    "* Пропуски в колонках `eu_sales` и `jp_sales` допустимы и могут быть связаны остутствием продаж или отсутствием информации о продажах. Т.К. процент этих пропусков мал **0.04%** и **0.02%**, в рассчетах мы можем обозначить их как среднее значение по платформе и дате выхода игры. Такие пропуска относятся к типу *MAR* или *MNAR*. Можно изучить их распределение и понять к какому типу их отнести.\n",
    "* Пропуски в колонках `critic_score` и `user_score` могут обозначать отсутствие оценок игры или отсутствие данных об оценках игры. Эти пропуски занимают **более 50%** всех данных. Эти пропуска необходимо обработать, т.к. по ним надо делать категорирование данных. Такие пропуска относятся к типу *MAR*. Для игр могут отсутствовать оценки по причинам возраста игр, неактуальности платформы в год выпуска игры и региональных осбенностей. Необходимо изучить их детальнее и принять решение по их обработке.\n",
    "* Колонка `rating` содержит **40%** значений NaN. По данным из интернета, рейтинг может отсутствовать по множеству причин (отсутствие денег у маленьких студий, региональные системы рейтингов и т.п.). Эта колонка не нужна для расчетов, поэтому можем их оставить. Такие пропуска относятся к типу *MNAR*.\n",
    "* Колонки `name` и `genre` содержат **0.01%** пропусков. Это может быть связано с технической ошибкой занесения данных. Можем не учитывать их в расчетах. Такие пропуска относятся к типу *MCAR*.\n",
    "* Колонка `year_of_release` содержит **1.62%** пропусков. Это может быть связано с технической ошибкой занесения данных или отсутсвие релиза игры. Значения выхода игр можно собрать вручную для каждой игры при необходимости, но это будет ресурсозатратно. Т.к. процент NaN мал, можем не учитывать их для расчетов. Такие пропуска относятся к типу *MNAR* или *MCAR*."
   ]
  },
  {
   "cell_type": "code",
   "execution_count": 20,
   "id": "6b1017e4",
   "metadata": {},
   "outputs": [
    {
     "data": {
      "text/plain": [
       "<AxesSubplot:>"
      ]
     },
     "execution_count": 20,
     "metadata": {},
     "output_type": "execute_result"
    },
    {
     "data": {
      "image/png": "[encoded data removed]",
      "text/plain": [
       "<Figure size 1800x720 with 2 Axes>"
      ]
     },
     "metadata": {
      "needs_background": "light"
     },
     "output_type": "display_data"
    }
   ],
   "source": [
    "# Изучаем пропуски детальнее. Выводим диаграмму пропусков\n",
    "msno.matrix(games_df)"
   ]
  },
  {
   "cell_type": "markdown",
   "id": "4ffbfdd5",
   "metadata": {},
   "source": [
    "Как мы видим из визуализации, пропуска в трех колонках практически хаотичны. Существуют совпадения между отсутствиями рейтингов `critic_score` и `user_score`. Необходимо изучить данные еще детальнее."
   ]
  },
  {
   "cell_type": "code",
   "execution_count": 13,
   "id": "8836109f",
   "metadata": {
    "scrolled": false
   },
   "outputs": [
    {
     "data": {
      "text/plain": [
       "<AxesSubplot:>"
      ]
     },
     "execution_count": 13,
     "metadata": {},
     "output_type": "execute_result"
    },
    {
     "data": {
      "image/png": "[encoded data removed]",
      "text/plain": [
       "<Figure size 1800x720 with 2 Axes>"
      ]
     },
     "metadata": {
      "needs_background": "light"
     },
     "output_type": "display_data"
    }
   ],
   "source": [
    "# Изучим пропуска без значения tbd\n",
    "msno.matrix(games_df[games_df['user_score'] != 'tbd'])"
   ]
  },
  {
   "cell_type": "markdown",
   "id": "75ff10b7",
   "metadata": {},
   "source": [
    "При анализе пропусков в колонке `user_score` без значения `tbd` можно наблюдать более явную связь в отсутствии трех рейтингов."
   ]
  },
  {
   "cell_type": "code",
   "execution_count": 21,
   "id": "652645cb",
   "metadata": {},
   "outputs": [
    {
     "data": {
      "text/plain": [
       "platform\n",
       "XB       12.038141\n",
       "GC       19.538188\n",
       "PC       26.666667\n",
       "X360     27.322404\n",
       "XOne     31.872510\n",
       "PS4      36.202532\n",
       "PS3      38.597786\n",
       "WiiU     38.775510\n",
       "PS2      39.972590\n",
       "GBA      47.072879\n",
       "Wii      55.895522\n",
       "PSP      61.838893\n",
       "DS       66.743225\n",
       "3DS      68.113208\n",
       "PSV      71.724138\n",
       "DC       73.076923\n",
       "PS       83.374486\n",
       "NG      100.000000\n",
       "NES     100.000000\n",
       "N64     100.000000\n",
       "GG      100.000000\n",
       "SAT     100.000000\n",
       "SCD     100.000000\n",
       "SNES    100.000000\n",
       "TG16    100.000000\n",
       "WS      100.000000\n",
       "GEN     100.000000\n",
       "GB      100.000000\n",
       "3DO     100.000000\n",
       "PCFX    100.000000\n",
       "2600    100.000000\n",
       "Name: critic_score, dtype: float64"
      ]
     },
     "execution_count": 21,
     "metadata": {},
     "output_type": "execute_result"
    }
   ],
   "source": [
    "# Изучаем пропуска по различным группам\n",
    "games_df.groupby('platform')['critic_score'].apply(lambda x: x.isna().mean() *100).sort_values()"
   ]
  },
  {
   "cell_type": "markdown",
   "id": "7e0eaff6",
   "metadata": {},
   "source": [
    "Как мы можем наблюдать, для ряда платформ полностью отсутствуют рейтинги пользователей и критиков."
   ]
  },
  {
   "cell_type": "code",
   "execution_count": 22,
   "id": "b5ccd80d",
   "metadata": {},
   "outputs": [
    {
     "data": {
      "text/plain": [
       "year_of_release\n",
       "2002.0     24.433850\n",
       "2003.0     24.588086\n",
       "2004.0     26.459144\n",
       "2005.0     30.315789\n",
       "2001.0     32.179226\n",
       "2006.0     38.627451\n",
       "2007.0     41.954023\n",
       "2013.0     49.637681\n",
       "2008.0     49.826990\n",
       "2012.0     51.492537\n",
       "2016.0     54.240631\n",
       "2009.0     54.551724\n",
       "2014.0     55.136986\n",
       "2011.0     56.222802\n",
       "2000.0     59.663866\n",
       "2010.0     60.203284\n",
       "2015.0     62.908497\n",
       "1999.0     88.269795\n",
       "1998.0     92.708333\n",
       "1985.0     92.857143\n",
       "1988.0     93.333333\n",
       "1997.0     94.197952\n",
       "1996.0     97.003745\n",
       "1992.0     97.674419\n",
       "1994.0     99.173554\n",
       "1991.0    100.000000\n",
       "1990.0    100.000000\n",
       "1989.0    100.000000\n",
       "1987.0    100.000000\n",
       "1986.0    100.000000\n",
       "1995.0    100.000000\n",
       "1984.0    100.000000\n",
       "1983.0    100.000000\n",
       "1982.0    100.000000\n",
       "1981.0    100.000000\n",
       "1993.0    100.000000\n",
       "1980.0    100.000000\n",
       "Name: critic_score, dtype: float64"
      ]
     },
     "execution_count": 22,
     "metadata": {},
     "output_type": "execute_result"
    }
   ],
   "source": [
    "games_df.groupby(['year_of_release', ])['critic_score'].apply(lambda x: x.isna().mean() *100).sort_values()"
   ]
  },
  {
   "cell_type": "markdown",
   "id": "45aeaf96",
   "metadata": {},
   "source": [
    "Как мы можем наблюдать, до 2000 года практически отсутствовали оценки критиков на все игры"
   ]
  },
  {
   "cell_type": "code",
   "execution_count": 23,
   "id": "c27e62f6",
   "metadata": {
    "scrolled": false
   },
   "outputs": [
    {
     "data": {
      "text/html": [
       "<div>\n",
       "<style scoped>\n",
       "    .dataframe tbody tr th:only-of-type {\n",
       "        vertical-align: middle;\n",
       "    }\n",
       "\n",
       "    .dataframe tbody tr th {\n",
       "        vertical-align: top;\n",
       "    }\n",
       "\n",
       "    .dataframe thead th {\n",
       "        text-align: right;\n",
       "    }\n",
       "</style>\n",
       "<table border=\"1\" class=\"dataframe\">\n",
       "  <thead>\n",
       "    <tr style=\"text-align: right;\">\n",
       "      <th></th>\n",
       "      <th>platform</th>\n",
       "      <th>year_of_release</th>\n",
       "      <th>critic_score</th>\n",
       "    </tr>\n",
       "  </thead>\n",
       "  <tbody>\n",
       "    <tr>\n",
       "      <th>0</th>\n",
       "      <td>XB</td>\n",
       "      <td>2007.0</td>\n",
       "      <td>0.000000</td>\n",
       "    </tr>\n",
       "    <tr>\n",
       "      <th>1</th>\n",
       "      <td>XB</td>\n",
       "      <td>2000.0</td>\n",
       "      <td>0.000000</td>\n",
       "    </tr>\n",
       "    <tr>\n",
       "      <th>2</th>\n",
       "      <td>GC</td>\n",
       "      <td>2001.0</td>\n",
       "      <td>0.000000</td>\n",
       "    </tr>\n",
       "    <tr>\n",
       "      <th>3</th>\n",
       "      <td>XB</td>\n",
       "      <td>2001.0</td>\n",
       "      <td>3.030303</td>\n",
       "    </tr>\n",
       "    <tr>\n",
       "      <th>4</th>\n",
       "      <td>PS4</td>\n",
       "      <td>2013.0</td>\n",
       "      <td>6.250000</td>\n",
       "    </tr>\n",
       "    <tr>\n",
       "      <th>...</th>\n",
       "      <td>...</td>\n",
       "      <td>...</td>\n",
       "      <td>...</td>\n",
       "    </tr>\n",
       "    <tr>\n",
       "      <th>116</th>\n",
       "      <td>XB</td>\n",
       "      <td>2008.0</td>\n",
       "      <td>100.000000</td>\n",
       "    </tr>\n",
       "    <tr>\n",
       "      <th>117</th>\n",
       "      <td>PS</td>\n",
       "      <td>2003.0</td>\n",
       "      <td>100.000000</td>\n",
       "    </tr>\n",
       "    <tr>\n",
       "      <th>118</th>\n",
       "      <td>N64</td>\n",
       "      <td>2000.0</td>\n",
       "      <td>100.000000</td>\n",
       "    </tr>\n",
       "    <tr>\n",
       "      <th>119</th>\n",
       "      <td>Wii</td>\n",
       "      <td>2013.0</td>\n",
       "      <td>100.000000</td>\n",
       "    </tr>\n",
       "    <tr>\n",
       "      <th>120</th>\n",
       "      <td>DS</td>\n",
       "      <td>2013.0</td>\n",
       "      <td>100.000000</td>\n",
       "    </tr>\n",
       "  </tbody>\n",
       "</table>\n",
       "<p>121 rows × 3 columns</p>\n",
       "</div>"
      ],
      "text/plain": [
       "    platform  year_of_release  critic_score\n",
       "0         XB           2007.0      0.000000\n",
       "1         XB           2000.0      0.000000\n",
       "2         GC           2001.0      0.000000\n",
       "3         XB           2001.0      3.030303\n",
       "4        PS4           2013.0      6.250000\n",
       "..       ...              ...           ...\n",
       "116       XB           2008.0    100.000000\n",
       "117       PS           2003.0    100.000000\n",
       "118      N64           2000.0    100.000000\n",
       "119      Wii           2013.0    100.000000\n",
       "120       DS           2013.0    100.000000\n",
       "\n",
       "[121 rows x 3 columns]"
      ]
     },
     "execution_count": 23,
     "metadata": {},
     "output_type": "execute_result"
    }
   ],
   "source": [
    "# Изучаем распределение пропусков по платформам и году релиза\n",
    "games_info = games_df[games_df['year_of_release'].between(2000,2013)].groupby(['platform','year_of_release'])['critic_score'].apply(lambda x: x.isna().mean() *100).sort_values().reset_index()\n",
    "games_info[games_info['critic_score'].notna()]"
   ]
  },
  {
   "cell_type": "code",
   "execution_count": 24,
   "id": "84b00bcb",
   "metadata": {},
   "outputs": [],
   "source": [
    "# Создаем колонку с общими продажами\n",
    "games_df['total_sales'] = games_df['na_sales'] + games_df['eu_sales'] + games_df['jp_sales'] + games_df['other_sales']"
   ]
  },
  {
   "cell_type": "code",
   "execution_count": 25,
   "id": "99c07681",
   "metadata": {},
   "outputs": [
    {
     "data": {
      "text/plain": [
       "1531.26"
      ]
     },
     "execution_count": 25,
     "metadata": {},
     "output_type": "execute_result"
    }
   ],
   "source": [
    "# Проведем оценку кол-ва проданных копий для игр без рейтингов\n",
    "sales_wo_rating = games_df[(games_df['critic_score'].isna()) & (games_df['year_of_release'].between(2000,2013))]['total_sales'].sum()\n",
    "sales_wo_rating"
   ]
  },
  {
   "cell_type": "code",
   "execution_count": 26,
   "id": "3962a539",
   "metadata": {},
   "outputs": [
    {
     "data": {
      "text/plain": [
       "6476.1"
      ]
     },
     "execution_count": 26,
     "metadata": {},
     "output_type": "execute_result"
    }
   ],
   "source": [
    "# Проведем оценку кол-ва проданных копий для игр с рейтингом\n",
    "total_sales = games_df[games_df['year_of_release'].between(2000,2013)]['total_sales'].sum()\n",
    "total_sales"
   ]
  },
  {
   "cell_type": "code",
   "execution_count": 27,
   "id": "51828dce",
   "metadata": {},
   "outputs": [
    {
     "data": {
      "text/plain": [
       "0.23644786"
      ]
     },
     "execution_count": 27,
     "metadata": {},
     "output_type": "execute_result"
    }
   ],
   "source": [
    "sales_wo_rating/total_sales"
   ]
  },
  {
   "cell_type": "markdown",
   "id": "5c44178c",
   "metadata": {},
   "source": [
    "Как мы можем отметить данные по рейтингу отсутствуют с определенной последовательностью, что указывает на тип пропусков `MAR`\n",
    "\n",
    "При анализе колонки `critic_score` мы выявили некоторые закономерности, которые могут служить обоснованием отсутствия рейтинга. Отсуствие рейтинга может быть вызвано отсутствием актуальности платформы в определенное время. Например в 2008 году популярностью пользовался XB360, а XB был уже раритетом). \n",
    "\n",
    "Продажи игр без оценок занимают 23% от всех продаж. NaN значения связаны с отсутствием рейтинга, заменим их на -1."
   ]
  },
  {
   "cell_type": "code",
   "execution_count": 28,
   "id": "154be65d",
   "metadata": {
    "id": "154be65d"
   },
   "outputs": [],
   "source": [
    "# Удаляем NaN для колонок name, genre и удаляем столбец промежуточных расчетов\n",
    "new_games_df = games_df.dropna(subset=['name', 'genre'])\n",
    "new_games_df = new_games_df.drop('total_sales', axis=1) "
   ]
  },
  {
   "cell_type": "code",
   "execution_count": 29,
   "id": "3f42817b",
   "metadata": {
    "id": "3f42817b"
   },
   "outputs": [],
   "source": [
    "# Убираем все строки с Nan в дате\n",
    "new_games_df = new_games_df.dropna(subset=['year_of_release'])"
   ]
  },
  {
   "cell_type": "code",
   "execution_count": 30,
   "id": "2784c760",
   "metadata": {
    "id": "2784c760"
   },
   "outputs": [],
   "source": [
    "# Замена пропусков на средние значения в колонках eu_sales и jp_sales\n",
    "def mean_group_sales(row, column):\n",
    "    if pd.isna(row[column]):\n",
    "        group = new_games_df[(new_games_df['platform'] == row['platform']) & \n",
    "                             (new_games_df['year_of_release'] == row['year_of_release'])]\n",
    "        return group[column].mean()\n",
    "    else:\n",
    "        return row[column]\n",
    "    \n",
    "columns = ['eu_sales', 'jp_sales']\n",
    "for column in columns:\n",
    "    new_games_df[column] = new_games_df.apply(lambda row: mean_group_sales(row, column), axis=1)"
   ]
  },
  {
   "cell_type": "markdown",
   "id": "498ec8ca",
   "metadata": {},
   "source": [
    "Замена пропусков в продажах по регионам на среднее значение в зависимости от названия платформы и года выхода игры.\n",
    "\n",
    "<span style=\"color: #6e6e6e;\"> Была применена Лямбда функция для передачи аргументов в функцию"
   ]
  },
  {
   "cell_type": "code",
   "execution_count": 31,
   "id": "fc46ec71",
   "metadata": {},
   "outputs": [],
   "source": [
    "new_games_df['critic_score'] = new_games_df['critic_score'].fillna(-1)"
   ]
  },
  {
   "cell_type": "code",
   "execution_count": 32,
   "id": "c1917ede",
   "metadata": {},
   "outputs": [],
   "source": [
    "new_games_df['user_score'] = new_games_df['user_score'].fillna(-1)"
   ]
  },
  {
   "cell_type": "code",
   "execution_count": 33,
   "id": "11c04e97",
   "metadata": {},
   "outputs": [
    {
     "data": {
      "text/plain": [
       "name                  0\n",
       "platform              0\n",
       "year_of_release       0\n",
       "genre                 0\n",
       "na_sales              0\n",
       "eu_sales              0\n",
       "jp_sales              0\n",
       "other_sales           0\n",
       "critic_score          0\n",
       "user_score            0\n",
       "rating             4133\n",
       "dtype: int64"
      ]
     },
     "execution_count": 33,
     "metadata": {},
     "output_type": "execute_result"
    }
   ],
   "source": [
    "# Анализ NaN значений после обработки\n",
    "new_games_df[new_games_df['year_of_release'].between(2000, 2013)].isna().sum()"
   ]
  },
  {
   "cell_type": "markdown",
   "id": "a63363fd",
   "metadata": {
    "id": "a63363fd"
   },
   "source": [
    "### 2.4. Явные и неявные дубликаты в данных\n",
    "\n",
    "- Изучить уникальные значения в категориальных данных, например с названиями жанра игры, платформы, рейтинга и года выпуска. Проверить, встречаются ли среди данных неявные дубликаты, связанные с опечатками или разным способом написания.\n",
    "- При необходимости провести нормализацию данных с текстовыми значениями."
   ]
  },
  {
   "cell_type": "code",
   "execution_count": 34,
   "id": "a0cac80c",
   "metadata": {
    "id": "a0cac80c"
   },
   "outputs": [
    {
     "data": {
      "text/plain": [
       "['2600',\n",
       " '3DO',\n",
       " '3DS',\n",
       " 'DC',\n",
       " 'DS',\n",
       " 'GB',\n",
       " 'GBA',\n",
       " 'GC',\n",
       " 'GEN',\n",
       " 'GG',\n",
       " 'N64',\n",
       " 'NES',\n",
       " 'NG',\n",
       " 'PC',\n",
       " 'PCFX',\n",
       " 'PS',\n",
       " 'PS2',\n",
       " 'PS3',\n",
       " 'PS4',\n",
       " 'PSP',\n",
       " 'PSV',\n",
       " 'SAT',\n",
       " 'SCD',\n",
       " 'SNES',\n",
       " 'TG16',\n",
       " 'WS',\n",
       " 'Wii',\n",
       " 'WiiU',\n",
       " 'X360',\n",
       " 'XB',\n",
       " 'XOne']"
      ]
     },
     "execution_count": 34,
     "metadata": {},
     "output_type": "execute_result"
    }
   ],
   "source": [
    "# Проверка неявных дубликатов в колонке platform\n",
    "new_games_df.sort_values('platform')['platform'].unique().to_list()"
   ]
  },
  {
   "cell_type": "markdown",
   "id": "32bb87f4",
   "metadata": {},
   "source": [
    "Неявные дубликаты в данных отсутствуют"
   ]
  },
  {
   "cell_type": "code",
   "execution_count": 35,
   "id": "045678eb",
   "metadata": {},
   "outputs": [
    {
     "data": {
      "text/plain": [
       "['ACTION',\n",
       " 'ADVENTURE',\n",
       " 'Action',\n",
       " 'Adventure',\n",
       " 'FIGHTING',\n",
       " 'Fighting',\n",
       " 'MISC',\n",
       " 'Misc',\n",
       " 'PLATFORM',\n",
       " 'PUZZLE',\n",
       " 'Platform',\n",
       " 'Puzzle',\n",
       " 'RACING',\n",
       " 'ROLE-PLAYING',\n",
       " 'Racing',\n",
       " 'Role-Playing',\n",
       " 'SHOOTER',\n",
       " 'SIMULATION',\n",
       " 'SPORTS',\n",
       " 'STRATEGY',\n",
       " 'Shooter',\n",
       " 'Simulation',\n",
       " 'Sports',\n",
       " 'Strategy']"
      ]
     },
     "execution_count": 35,
     "metadata": {},
     "output_type": "execute_result"
    }
   ],
   "source": [
    "# Проверка неявных дубликатов в колонке genre\n",
    "new_games_df.sort_values('genre')['genre'].unique().to_list()"
   ]
  },
  {
   "cell_type": "markdown",
   "id": "38b6c632",
   "metadata": {},
   "source": [
    "Неявные дубликаты в данной колонке присутствуют и связаны с различным регистром. Необходимо привести все данные к нижнему регистру"
   ]
  },
  {
   "cell_type": "code",
   "execution_count": 36,
   "id": "2c4be65b",
   "metadata": {},
   "outputs": [
    {
     "data": {
      "text/plain": [
       "['AO', 'E', 'E10+', 'EC', 'K-A', 'M', 'RP', 'T', NaN]\n",
       "Categories (8, object): ['AO', 'E', 'E10+', 'EC', 'K-A', 'M', 'RP', 'T']"
      ]
     },
     "execution_count": 36,
     "metadata": {},
     "output_type": "execute_result"
    }
   ],
   "source": [
    "# Проверка неявных дубликатов в колонке rating\n",
    "new_games_df.sort_values('rating')['rating'].unique()"
   ]
  },
  {
   "cell_type": "markdown",
   "id": "855b1ce0",
   "metadata": {},
   "source": [
    "Неявные дубликаты в данной колонке присутствуют. В рейтинге указаны региональная категория K-A, преобразуем ее в единую систему ESRB."
   ]
  },
  {
   "cell_type": "code",
   "execution_count": 37,
   "id": "e07e5f7c",
   "metadata": {},
   "outputs": [],
   "source": [
    "# Замена рейтинга согласно стандарту рейтингов ESRB\n",
    "new_games_df['rating'] = new_games_df['rating'].replace('K-A', 'E')"
   ]
  },
  {
   "cell_type": "code",
   "execution_count": 60,
   "id": "5d6b4dc8",
   "metadata": {
    "scrolled": true
   },
   "outputs": [
    {
     "data": {
      "text/plain": [
       "16443"
      ]
     },
     "execution_count": 60,
     "metadata": {},
     "output_type": "execute_result"
    }
   ],
   "source": [
    "new_games_df['name'].shape[0]"
   ]
  },
  {
   "cell_type": "markdown",
   "id": "cac59a39",
   "metadata": {},
   "source": [
    "Т.к в колонке с названием игры множество значений, приведем ее в нижний регистр для удобного поиска дубликатов"
   ]
  },
  {
   "cell_type": "code",
   "execution_count": 39,
   "id": "d9661885",
   "metadata": {},
   "outputs": [],
   "source": [
    "# Преобразование колонок в необходимые регистры\n",
    "new_games_df['name'] = new_games_df['name'].str.lower()\n",
    "new_games_df['genre'] = new_games_df['genre'].str.lower()"
   ]
  },
  {
   "cell_type": "markdown",
   "id": "8bb70399",
   "metadata": {},
   "source": [
    "Данные преобразованы и теперь можно искать явные дубликаты"
   ]
  },
  {
   "cell_type": "code",
   "execution_count": 40,
   "id": "fc5c91b5",
   "metadata": {
    "id": "fc5c91b5",
    "scrolled": true
   },
   "outputs": [
    {
     "data": {
      "text/plain": [
       "235"
      ]
     },
     "execution_count": 40,
     "metadata": {},
     "output_type": "execute_result"
    }
   ],
   "source": [
    "# Найдем кол-во явных дубликатов\n",
    "new_games_df.duplicated().sum()"
   ]
  },
  {
   "cell_type": "markdown",
   "id": "6c9ace30",
   "metadata": {},
   "source": [
    "В датафрейме найдено 235 явных дубликатов"
   ]
  },
  {
   "cell_type": "code",
   "execution_count": 41,
   "id": "2f61e076",
   "metadata": {
    "id": "2f61e076"
   },
   "outputs": [],
   "source": [
    "# Удалим явные дубликаты\n",
    "new_games_df = new_games_df.drop_duplicates()"
   ]
  },
  {
   "cell_type": "markdown",
   "id": "df93b13f",
   "metadata": {},
   "source": [
    "Явные дубликаты очищены из датафрейма"
   ]
  },
  {
   "cell_type": "code",
   "execution_count": 42,
   "id": "d453d492",
   "metadata": {
    "scrolled": true
   },
   "outputs": [
    {
     "data": {
      "text/html": [
       "<div>\n",
       "<style scoped>\n",
       "    .dataframe tbody tr th:only-of-type {\n",
       "        vertical-align: middle;\n",
       "    }\n",
       "\n",
       "    .dataframe tbody tr th {\n",
       "        vertical-align: top;\n",
       "    }\n",
       "\n",
       "    .dataframe thead th {\n",
       "        text-align: right;\n",
       "    }\n",
       "</style>\n",
       "<table border=\"1\" class=\"dataframe\">\n",
       "  <thead>\n",
       "    <tr style=\"text-align: right;\">\n",
       "      <th></th>\n",
       "      <th>name</th>\n",
       "      <th>platform</th>\n",
       "      <th>year_of_release</th>\n",
       "      <th>genre</th>\n",
       "      <th>na_sales</th>\n",
       "      <th>eu_sales</th>\n",
       "      <th>jp_sales</th>\n",
       "      <th>other_sales</th>\n",
       "      <th>critic_score</th>\n",
       "      <th>user_score</th>\n",
       "      <th>rating</th>\n",
       "    </tr>\n",
       "  </thead>\n",
       "  <tbody>\n",
       "    <tr>\n",
       "      <th>16465</th>\n",
       "      <td>madden nfl 13</td>\n",
       "      <td>PS3</td>\n",
       "      <td>2012.0</td>\n",
       "      <td>sports</td>\n",
       "      <td>0.00</td>\n",
       "      <td>0.01</td>\n",
       "      <td>0.0</td>\n",
       "      <td>0.00</td>\n",
       "      <td>83.0</td>\n",
       "      <td>5.5</td>\n",
       "      <td>E</td>\n",
       "    </tr>\n",
       "    <tr>\n",
       "      <th>606</th>\n",
       "      <td>madden nfl 13</td>\n",
       "      <td>PS3</td>\n",
       "      <td>2012.0</td>\n",
       "      <td>sports</td>\n",
       "      <td>2.11</td>\n",
       "      <td>0.22</td>\n",
       "      <td>0.0</td>\n",
       "      <td>0.23</td>\n",
       "      <td>83.0</td>\n",
       "      <td>5.5</td>\n",
       "      <td>E</td>\n",
       "    </tr>\n",
       "  </tbody>\n",
       "</table>\n",
       "</div>"
      ],
      "text/plain": [
       "                name platform  year_of_release   genre  na_sales  eu_sales  \\\n",
       "16465  madden nfl 13      PS3           2012.0  sports      0.00      0.01   \n",
       "606    madden nfl 13      PS3           2012.0  sports      2.11      0.22   \n",
       "\n",
       "       jp_sales  other_sales  critic_score  user_score rating  \n",
       "16465       0.0         0.00          83.0         5.5      E  \n",
       "606         0.0         0.23          83.0         5.5      E  "
      ]
     },
     "execution_count": 42,
     "metadata": {},
     "output_type": "execute_result"
    }
   ],
   "source": [
    "# Найдем неявные дубликаты по ряду колонок после очистки датафрема\n",
    "new_games_df_sorted = new_games_df.sort_values(by=new_games_df.columns.tolist())\n",
    "new_games_df_sorted[new_games_df_sorted.duplicated(subset=['name', 'platform', 'year_of_release', 'genre'],keep=False)]"
   ]
  },
  {
   "cell_type": "markdown",
   "id": "18195071",
   "metadata": {
    "id": "8548f894"
   },
   "source": [
    "В датафрейме остался один неявный дубликат в котором различается кол-во продаж, необходимо его обработать"
   ]
  },
  {
   "cell_type": "code",
   "execution_count": 43,
   "id": "327e55bb",
   "metadata": {
    "id": "327e55bb"
   },
   "outputs": [],
   "source": [
    "# Объединим данное значение вручную, чтобы не нагружать сервер ради одного вычисления\n",
    "new_games_df.loc[606, 'eu_sales'] += 0.01\n",
    "new_games_df = new_games_df.drop_duplicates(subset=['name', 'platform', 'year_of_release', 'genre'])"
   ]
  },
  {
   "cell_type": "code",
   "execution_count": 44,
   "id": "3d7a9d8e",
   "metadata": {
    "id": "3d7a9d8e"
   },
   "outputs": [
    {
     "data": {
      "text/plain": [
       "16443"
      ]
     },
     "execution_count": 44,
     "metadata": {},
     "output_type": "execute_result"
    }
   ],
   "source": [
    "new_df_len = new_games_df.shape[0]\n",
    "old_df_len = games_df.shape[0]\n",
    "new_df_len"
   ]
  },
  {
   "cell_type": "code",
   "execution_count": 45,
   "id": "453debea",
   "metadata": {},
   "outputs": [
    {
     "data": {
      "text/plain": [
       "513"
      ]
     },
     "execution_count": 45,
     "metadata": {},
     "output_type": "execute_result"
    }
   ],
   "source": [
    "old_df_len - new_df_len"
   ]
  },
  {
   "cell_type": "code",
   "execution_count": 46,
   "id": "1e48a7ce",
   "metadata": {
    "id": "1e48a7ce"
   },
   "outputs": [
    {
     "data": {
      "text/plain": [
       "3.0254777070063743"
      ]
     },
     "execution_count": 46,
     "metadata": {},
     "output_type": "execute_result"
    }
   ],
   "source": [
    "(1-new_df_len/old_df_len)*100"
   ]
  },
  {
   "cell_type": "markdown",
   "id": "62bc2aab",
   "metadata": {},
   "source": [
    "* Всего в новом датафрейме **16443** строки\n",
    "* При обработке датафрейма были удалены **513** строк\n",
    "* Доля удаленных строк составляет **3%**"
   ]
  },
  {
   "cell_type": "markdown",
   "id": "96e35b1c",
   "metadata": {
    "id": "5166fdf8"
   },
   "source": [
    "**Выводы и комментарии после очистки данных:**\n",
    "\n",
    "* **Нулевые значения:**\n",
    "    * В столбцах `user_score` и `critic_score` присутствовало множество дубликатов. Эти данные необходимы нам для группировки согласно ТЗ. Отсутствие рейтинга, скорее всего, не связано с технической ошибкой, поэтому было принято решение заменить данные без оценки на индикатор `-1`.\n",
    "    * Нулевые значения из столбцов с продажами были обработаны и сохранены как среднее значение по платформе и году релиза.\n",
    "    * Нулевые значения в названии игры, жанре и годе выпуска незначительны и были удалены.\n",
    "* **Дубликаты:**\n",
    "    * Неявные дубликаты в данных были связаны с различным регистром\n",
    "    * Неявные дубликаты в данных были удалены"
   ]
  },
  {
   "cell_type": "markdown",
   "id": "613f0eb0",
   "metadata": {
    "id": "613f0eb0"
   },
   "source": [
    "---\n",
    "\n",
    "## 3. Фильтрация данных\n",
    "\n",
    "Коллеги хотят изучить историю продаж игр в начале XXI века, и их интересует период с 2000 по 2013 год включительно. Необходимо отобрать данные по этому показателю."
   ]
  },
  {
   "cell_type": "code",
   "execution_count": 47,
   "id": "2344916d",
   "metadata": {
    "id": "2344916d"
   },
   "outputs": [],
   "source": [
    "games_df_actual = new_games_df[new_games_df['year_of_release'].between(2000, 2013)]"
   ]
  },
  {
   "cell_type": "code",
   "execution_count": 48,
   "id": "44d7529f",
   "metadata": {
    "id": "44d7529f"
   },
   "outputs": [
    {
     "data": {
      "text/plain": [
       "12780"
      ]
     },
     "execution_count": 48,
     "metadata": {},
     "output_type": "execute_result"
    }
   ],
   "source": [
    "games_df_actual.shape[0]"
   ]
  },
  {
   "cell_type": "code",
   "execution_count": 49,
   "id": "b5dfbd74",
   "metadata": {},
   "outputs": [
    {
     "data": {
      "text/plain": [
       "2000.0"
      ]
     },
     "execution_count": 49,
     "metadata": {},
     "output_type": "execute_result"
    }
   ],
   "source": [
    "# Проверим минимальный год в датасете с фильтрацией\n",
    "games_df_actual['year_of_release'].min()"
   ]
  },
  {
   "cell_type": "code",
   "execution_count": 50,
   "id": "658d5754",
   "metadata": {},
   "outputs": [
    {
     "data": {
      "text/plain": [
       "2013.0"
      ]
     },
     "execution_count": 50,
     "metadata": {},
     "output_type": "execute_result"
    }
   ],
   "source": [
    "# Проверим максимальный год в датасете с фильтрацией\n",
    "games_df_actual['year_of_release'].max()"
   ]
  },
  {
   "cell_type": "markdown",
   "id": "651c7d27",
   "metadata": {
    "id": "906577e8"
   },
   "source": [
    "* Отобраны данные с `2000` по `2013` год включительно\n",
    "* За эти даты в датафрейме содержатся `12780` записей. `77%` процентов всех записей содержатся в этом временном периоде."
   ]
  },
  {
   "cell_type": "markdown",
   "id": "a6f10b01",
   "metadata": {
    "id": "a6f10b01"
   },
   "source": [
    "---\n",
    "\n",
    "## 4. Категоризация данных\n",
    "    \n",
    "Провести категоризацию данных:\n",
    "- Разделить все игры по оценкам пользователей и выделить такие категории: высокая оценка (от 8 до 10 включительно), средняя оценка (от 3 до 8, не включая правую границу интервала) и низкая оценка (от 0 до 3, не включая правую границу интервала)."
   ]
  },
  {
   "cell_type": "code",
   "execution_count": 51,
   "id": "9b0ca0f2",
   "metadata": {
    "id": "9b0ca0f2"
   },
   "outputs": [],
   "source": [
    "# Создаем копию датафрейма. Без копии выдается ошибка\n",
    "games_df_actual = games_df_actual.copy()"
   ]
  },
  {
   "cell_type": "code",
   "execution_count": 52,
   "id": "3db87229",
   "metadata": {
    "id": "3db87229"
   },
   "outputs": [],
   "source": [
    "# Создаем категории по колонке user_score\n",
    "df_bins = [-1, 0, 30, 80, 101]\n",
    "df_lables = ['Нет оценки', 'Низкая оценка', 'Средняя оценка', 'Высокая оценка']\n",
    "games_df_actual['critic_score_category'] = pd.cut(games_df_actual['critic_score'], bins=df_bins, labels=df_lables, right=False)"
   ]
  },
  {
   "cell_type": "code",
   "execution_count": 53,
   "id": "35438bd6",
   "metadata": {
    "id": "35438bd6"
   },
   "outputs": [],
   "source": [
    "# Создаем категории по колонке user_score\n",
    "df_bins = [-1, 0, 3, 8, 11]\n",
    "df_lables = ['Нет оценки', 'Низкая оценка', 'Средняя оценка', 'Высокая оценка']\n",
    "games_df_actual['user_score_category'] = pd.cut(games_df_actual['user_score'], bins=df_bins, labels=df_lables, right=False)"
   ]
  },
  {
   "cell_type": "markdown",
   "id": "f8f34b40",
   "metadata": {
    "id": "f8f34b40"
   },
   "source": [
    "Все рейтинги категорированы на `Нет оценки`, `Низкая оценка`, `Средняя оценка`, `Высокая оценка`."
   ]
  },
  {
   "cell_type": "code",
   "execution_count": 54,
   "id": "9d2f06f1",
   "metadata": {},
   "outputs": [],
   "source": [
    "# Считаем общую сумму продаж\n",
    "games_df_actual['total_sales'] = games_df_actual['na_sales'] + games_df_actual['eu_sales'] + games_df_actual['jp_sales'] + games_df_actual['other_sales']"
   ]
  },
  {
   "cell_type": "code",
   "execution_count": 55,
   "id": "x2ne0HIpUMMD",
   "metadata": {
    "id": "x2ne0HIpUMMD"
   },
   "outputs": [],
   "source": [
    "# Создаем функцию для группировки\n",
    "def result_category(column_name):\n",
    "    result = games_df_actual.groupby(column_name).agg({'name': 'count','total_sales': 'sum'})\n",
    "    result = result.sort_values(by='name', ascending=False).reset_index()\n",
    "    result['count_share'] = round(result['name']/ result['name'].sum() *100,1)\n",
    "    result = result.rename(columns={'name': 'count'})\n",
    "    result['total_sales'] = round(result['total_sales'], 1)\n",
    "    return result"
   ]
  },
  {
   "cell_type": "code",
   "execution_count": 56,
   "id": "b6841735",
   "metadata": {},
   "outputs": [
    {
     "data": {
      "text/html": [
       "<div>\n",
       "<style scoped>\n",
       "    .dataframe tbody tr th:only-of-type {\n",
       "        vertical-align: middle;\n",
       "    }\n",
       "\n",
       "    .dataframe tbody tr th {\n",
       "        vertical-align: top;\n",
       "    }\n",
       "\n",
       "    .dataframe thead th {\n",
       "        text-align: right;\n",
       "    }\n",
       "</style>\n",
       "<table border=\"1\" class=\"dataframe\">\n",
       "  <thead>\n",
       "    <tr style=\"text-align: right;\">\n",
       "      <th></th>\n",
       "      <th>user_score_category</th>\n",
       "      <th>count</th>\n",
       "      <th>total_sales</th>\n",
       "      <th>count_share</th>\n",
       "    </tr>\n",
       "  </thead>\n",
       "  <tbody>\n",
       "    <tr>\n",
       "      <th>0</th>\n",
       "      <td>Нет оценки</td>\n",
       "      <td>6298</td>\n",
       "      <td>1569.2</td>\n",
       "      <td>49.3</td>\n",
       "    </tr>\n",
       "    <tr>\n",
       "      <th>1</th>\n",
       "      <td>Средняя оценка</td>\n",
       "      <td>4080</td>\n",
       "      <td>2622.3</td>\n",
       "      <td>31.9</td>\n",
       "    </tr>\n",
       "    <tr>\n",
       "      <th>2</th>\n",
       "      <td>Высокая оценка</td>\n",
       "      <td>2286</td>\n",
       "      <td>2185.7</td>\n",
       "      <td>17.9</td>\n",
       "    </tr>\n",
       "    <tr>\n",
       "      <th>3</th>\n",
       "      <td>Низкая оценка</td>\n",
       "      <td>116</td>\n",
       "      <td>50.0</td>\n",
       "      <td>0.9</td>\n",
       "    </tr>\n",
       "  </tbody>\n",
       "</table>\n",
       "</div>"
      ],
      "text/plain": [
       "  user_score_category  count  total_sales  count_share\n",
       "0          Нет оценки   6298       1569.2         49.3\n",
       "1      Средняя оценка   4080       2622.3         31.9\n",
       "2      Высокая оценка   2286       2185.7         17.9\n",
       "3       Низкая оценка    116         50.0          0.9"
      ]
     },
     "execution_count": 56,
     "metadata": {},
     "output_type": "execute_result"
    }
   ],
   "source": [
    "# Отображаем категории оценки пользователей\n",
    "result_category('user_score_category')"
   ]
  },
  {
   "cell_type": "markdown",
   "id": "21b1ceeb",
   "metadata": {},
   "source": [
    "* **49%** игр не получили оценок. Это `6298` проектов.\n",
    "* **32%** игр попали в категорию со средними оценками. Это `4080` проектов - `2622.3 млн.` проданных копий\n",
    "* **18%** игр попали в категорию с высокой оценкой (оценка от 8 до 10). Это `2286` игр - `2185.7 млн.` проданных копий\n",
    "* **1%** всех игр попал в категорию с низкой оценкой\n",
    "* В среднем продается по **250 тыс** копий на игры `без оценок`, **642 тыс** копий на игры со `средним рейтигом`, **956 тыс** копий на игры с `высоким рейтингом` и **431 тыс** копий на игры с `низкими оценками`."
   ]
  },
  {
   "cell_type": "code",
   "execution_count": 57,
   "id": "U6kiXU3JUMCc",
   "metadata": {
    "id": "U6kiXU3JUMCc",
    "scrolled": true
   },
   "outputs": [
    {
     "data": {
      "text/html": [
       "<div>\n",
       "<style scoped>\n",
       "    .dataframe tbody tr th:only-of-type {\n",
       "        vertical-align: middle;\n",
       "    }\n",
       "\n",
       "    .dataframe tbody tr th {\n",
       "        vertical-align: top;\n",
       "    }\n",
       "\n",
       "    .dataframe thead th {\n",
       "        text-align: right;\n",
       "    }\n",
       "</style>\n",
       "<table border=\"1\" class=\"dataframe\">\n",
       "  <thead>\n",
       "    <tr style=\"text-align: right;\">\n",
       "      <th></th>\n",
       "      <th>critic_score_category</th>\n",
       "      <th>count</th>\n",
       "      <th>total_sales</th>\n",
       "      <th>count_share</th>\n",
       "    </tr>\n",
       "  </thead>\n",
       "  <tbody>\n",
       "    <tr>\n",
       "      <th>0</th>\n",
       "      <td>Нет оценки</td>\n",
       "      <td>5612</td>\n",
       "      <td>1511.4</td>\n",
       "      <td>43.9</td>\n",
       "    </tr>\n",
       "    <tr>\n",
       "      <th>1</th>\n",
       "      <td>Средняя оценка</td>\n",
       "      <td>5422</td>\n",
       "      <td>2362.1</td>\n",
       "      <td>42.4</td>\n",
       "    </tr>\n",
       "    <tr>\n",
       "      <th>2</th>\n",
       "      <td>Высокая оценка</td>\n",
       "      <td>1691</td>\n",
       "      <td>2541.4</td>\n",
       "      <td>13.2</td>\n",
       "    </tr>\n",
       "    <tr>\n",
       "      <th>3</th>\n",
       "      <td>Низкая оценка</td>\n",
       "      <td>55</td>\n",
       "      <td>12.3</td>\n",
       "      <td>0.4</td>\n",
       "    </tr>\n",
       "  </tbody>\n",
       "</table>\n",
       "</div>"
      ],
      "text/plain": [
       "  critic_score_category  count  total_sales  count_share\n",
       "0            Нет оценки   5612       1511.4         43.9\n",
       "1        Средняя оценка   5422       2362.1         42.4\n",
       "2        Высокая оценка   1691       2541.4         13.2\n",
       "3         Низкая оценка     55         12.3          0.4"
      ]
     },
     "execution_count": 57,
     "metadata": {},
     "output_type": "execute_result"
    }
   ],
   "source": [
    "# Отображаем категории оценки критиков\n",
    "result_category('critic_score_category')"
   ]
  },
  {
   "cell_type": "markdown",
   "id": "521ed74b",
   "metadata": {},
   "source": [
    "* **44%** игр не получили оценок от критиков. Это `5612` проектов.\n",
    "* **42%** игр попали в категорию со средними оценками. Это `5422` проектов - `2362.1 млн.` проданных копий\n",
    "* **13%** игр попали в категорию с высокой оценкой (оценка от 8 до 10). Это `1691` игр - `2541.4 млн.` проданных копий\n",
    "* **0.4%** всех игр попал в категорию с низкой оценкой\n",
    "* В среднем продается по **270 тыс** копий на один проект `без оценок`, **435 тыс** копий на игры со `средним рейтигом`, **1.5 млн** копий на игры с `высоким рейтингом` и **223 тыс** копий на игры с `низкими оценками`."
   ]
  },
  {
   "cell_type": "markdown",
   "id": "2e4bcb9d",
   "metadata": {},
   "source": [
    "* Игры с низкими оценками от критиков продаются хуже, чем игры с низкими оценками пользователей\n",
    "* Игры с высокими оценками критиков в среднем продаются по 1.5 млн копий на одну игру, а с высокими оценками покупателей по 1 млн\n",
    "* Игр с высокими оценками критиков меньше, чем игр с высокими оценками игроков"
   ]
  },
  {
   "cell_type": "markdown",
   "id": "6a98444c",
   "metadata": {
    "id": "6a98444c"
   },
   "source": [
    "- Выделите топ-7 платформ по количеству игр, выпущенных за весь актуальный период."
   ]
  },
  {
   "cell_type": "code",
   "execution_count": 58,
   "id": "e8d8a1d0",
   "metadata": {
    "id": "e8d8a1d0"
   },
   "outputs": [
    {
     "data": {
      "text/html": [
       "<div>\n",
       "<style scoped>\n",
       "    .dataframe tbody tr th:only-of-type {\n",
       "        vertical-align: middle;\n",
       "    }\n",
       "\n",
       "    .dataframe tbody tr th {\n",
       "        vertical-align: top;\n",
       "    }\n",
       "\n",
       "    .dataframe thead th {\n",
       "        text-align: right;\n",
       "    }\n",
       "</style>\n",
       "<table border=\"1\" class=\"dataframe\">\n",
       "  <thead>\n",
       "    <tr style=\"text-align: right;\">\n",
       "      <th></th>\n",
       "      <th>platform</th>\n",
       "      <th>count</th>\n",
       "      <th>total_sales</th>\n",
       "    </tr>\n",
       "  </thead>\n",
       "  <tbody>\n",
       "    <tr>\n",
       "      <th>0</th>\n",
       "      <td>PS2</td>\n",
       "      <td>2127</td>\n",
       "      <td>1232.9</td>\n",
       "    </tr>\n",
       "    <tr>\n",
       "      <th>1</th>\n",
       "      <td>DS</td>\n",
       "      <td>2120</td>\n",
       "      <td>801.9</td>\n",
       "    </tr>\n",
       "    <tr>\n",
       "      <th>2</th>\n",
       "      <td>Wii</td>\n",
       "      <td>1275</td>\n",
       "      <td>886.1</td>\n",
       "    </tr>\n",
       "    <tr>\n",
       "      <th>3</th>\n",
       "      <td>PSP</td>\n",
       "      <td>1180</td>\n",
       "      <td>289.2</td>\n",
       "    </tr>\n",
       "    <tr>\n",
       "      <th>4</th>\n",
       "      <td>X360</td>\n",
       "      <td>1121</td>\n",
       "      <td>912.5</td>\n",
       "    </tr>\n",
       "    <tr>\n",
       "      <th>5</th>\n",
       "      <td>PS3</td>\n",
       "      <td>1086</td>\n",
       "      <td>863.2</td>\n",
       "    </tr>\n",
       "    <tr>\n",
       "      <th>6</th>\n",
       "      <td>GBA</td>\n",
       "      <td>811</td>\n",
       "      <td>312.5</td>\n",
       "    </tr>\n",
       "  </tbody>\n",
       "</table>\n",
       "</div>"
      ],
      "text/plain": [
       "  platform  count  total_sales\n",
       "0      PS2   2127       1232.9\n",
       "1       DS   2120        801.9\n",
       "2      Wii   1275        886.1\n",
       "3      PSP   1180        289.2\n",
       "4     X360   1121        912.5\n",
       "5      PS3   1086        863.2\n",
       "6      GBA    811        312.5"
      ]
     },
     "execution_count": 58,
     "metadata": {},
     "output_type": "execute_result"
    }
   ],
   "source": [
    "# Выделяем топ-7 платформ по кол-ву игр за период с 2000 по 2013 включительно\n",
    "result = games_df_actual.groupby('platform').agg({'name': 'count','total_sales': 'sum'})\n",
    "result = result.sort_values(by='name', ascending=False).reset_index()\n",
    "result = result.rename(columns={'name': 'count'})\n",
    "result['total_sales'] = round(result['total_sales'], 1)\n",
    "result.head(7)"
   ]
  },
  {
   "cell_type": "markdown",
   "id": "731549a7",
   "metadata": {
    "id": "f240904a"
   },
   "source": [
    "Топ 7 платформ по кол-ву выпущенных игр.\n",
    "* **На первом месте** - PS2 - Sony Playstation 2 (2127 игры, 1233 млн. проданных копий)\n",
    "* **На седьмом** - GBA - Game Boy Advance (811 проектов, 312 млн. проданных копий)"
   ]
  },
  {
   "cell_type": "markdown",
   "id": "c0158881",
   "metadata": {
    "id": "c0158881"
   },
   "source": [
    "---\n",
    "\n",
    "## 5. Итоговый вывод\n",
    "\n",
    "В конце напишите основной вывод и отразите, какую работу проделали. Не забудьте указать описание среза данных и новых полей, которые добавили в исходный датасет."
   ]
  },
  {
   "cell_type": "markdown",
   "id": "e488b571",
   "metadata": {
    "id": "20175f5b"
   },
   "source": [
    "Были загружены данные `new_games.csv`. Они содержат 11 колонок и 16 956 строк, в которых представлена информация об играх, их жанрах, годе выпуска, продажах в различных регионах и рейтингах. При первичном знакомстве с данными и их предобработкой получены результаты:\n",
    "- В восьми столбцах (`year_of_release`, `eu_sales`, `jp_sales`, `critic_score`, `user_score`, `name`, `genre`, `rating`). Максимальное значение пропущенных данных в столбце `critic_score` - 51.39%.\n",
    "- Для работы с пропусками были сделаны следующие действия:\n",
    "    - `year_of_release`. NaN заменены на индикатор -1 и не учтены в расчетах\n",
    "    - `eu_sales`, `jp_sales`. NaN расчитаны, как среднее значение по платформе и дате выхода игры\n",
    "    - `name`, `genre`. NaN значения составляли менее 2%, было принято решение не учитывать их в расчетах\n",
    "    - `rating`. NaN значения были оставлены, т.к. нам не нужен данный рейтинг для расчетов\n",
    "    - `critic_score`, `user_score`. NaN заменены на индикатор -1. В группировке данные значения попали в категорию игр без оценок.\n",
    "- Для оптимизации работы с данными в датафрейме были произведены следующие изменения типов данных:\n",
    "    - Для колонок `platform`, `genre`, `rating` тип данных изменен с `object` на `category`\n",
    "    - Для колонки `year_of_release` тип данных был изменен на `integer` для привычного отображения года\n",
    "    - Для колонок `EU sales`, `JP sales`, `User Score` проведено преобразование в `float32` для произведения расчетов\n",
    "\n",
    "- Для дополнительной работы с данными был создан новый датафрейм `games_df_actual`:\n",
    "    - Сделана фильтрация по году выпуска игры (с 2000 по 2013 включительно)\n",
    "    - Столбец `critic_score_category` - рейтинг по данным оценок критиков (Высокая оценка, Средняя оценка, Низкая оценка, Нет оценки)\n",
    "    - Столбец `user_score_category` - рейтинг по данным оценок пользователей (Высокая оценка, Средняя оценка, Низкая оценка, Нет оценки)\n",
    "    - Столбец `total_sales` - суммарные продажи всех рынков\n",
    "    \n",
    "Новый датафрейм `games_df_actual` содержит 14 колонок и 12 780 строк"
   ]
  }
 ],
 "metadata": {
  "ExecuteTimeLog": [
   {
    "duration": 389,
    "start_time": "2025-08-29T14:03:51.680Z"
   },
   {
    "duration": 125,
    "start_time": "2025-08-29T14:04:51.050Z"
   },
   {
    "duration": 16,
    "start_time": "2025-08-29T14:05:23.578Z"
   },
   {
    "duration": 48,
    "start_time": "2025-08-29T16:36:06.866Z"
   },
   {
    "duration": 464,
    "start_time": "2025-08-29T16:36:16.875Z"
   },
   {
    "duration": 134,
    "start_time": "2025-08-29T16:36:17.341Z"
   },
   {
    "duration": 17,
    "start_time": "2025-08-29T16:36:17.477Z"
   },
   {
    "duration": 20,
    "start_time": "2025-08-29T16:36:17.496Z"
   },
   {
    "duration": 5,
    "start_time": "2025-08-29T16:51:07.749Z"
   },
   {
    "duration": 5,
    "start_time": "2025-08-29T16:51:15.400Z"
   },
   {
    "duration": 5,
    "start_time": "2025-08-29T16:51:20.511Z"
   },
   {
    "duration": 66,
    "start_time": "2025-08-29T16:54:05.147Z"
   },
   {
    "duration": 6,
    "start_time": "2025-08-29T16:54:12.215Z"
   },
   {
    "duration": 827,
    "start_time": "2025-08-29T16:54:30.025Z"
   },
   {
    "duration": 10,
    "start_time": "2025-08-29T16:56:09.519Z"
   },
   {
    "duration": 6,
    "start_time": "2025-08-29T16:56:28.611Z"
   },
   {
    "duration": 6,
    "start_time": "2025-08-29T16:56:35.268Z"
   },
   {
    "duration": 6,
    "start_time": "2025-08-29T16:56:41.049Z"
   },
   {
    "duration": 11,
    "start_time": "2025-08-29T16:57:03.785Z"
   },
   {
    "duration": 11,
    "start_time": "2025-08-29T16:57:09.733Z"
   },
   {
    "duration": 10,
    "start_time": "2025-08-29T16:57:14.882Z"
   },
   {
    "duration": 6,
    "start_time": "2025-08-29T17:05:33.312Z"
   },
   {
    "duration": 54,
    "start_time": "2025-08-29T17:05:38.354Z"
   },
   {
    "duration": 15,
    "start_time": "2025-08-29T17:05:57.447Z"
   },
   {
    "duration": 14,
    "start_time": "2025-08-29T17:06:08.773Z"
   },
   {
    "duration": 14,
    "start_time": "2025-08-29T17:06:15.735Z"
   },
   {
    "duration": 25,
    "start_time": "2025-08-29T17:06:48.737Z"
   },
   {
    "duration": 8,
    "start_time": "2025-08-29T17:07:38.754Z"
   },
   {
    "duration": 6,
    "start_time": "2025-08-29T17:08:35.645Z"
   },
   {
    "duration": 13,
    "start_time": "2025-08-29T17:08:48.043Z"
   },
   {
    "duration": 15,
    "start_time": "2025-08-29T17:09:33.032Z"
   },
   {
    "duration": 8,
    "start_time": "2025-08-29T17:10:04.377Z"
   },
   {
    "duration": 9,
    "start_time": "2025-08-29T17:10:08.646Z"
   },
   {
    "duration": 11,
    "start_time": "2025-08-29T17:11:03.926Z"
   },
   {
    "duration": 5,
    "start_time": "2025-08-29T17:11:10.221Z"
   },
   {
    "duration": 5,
    "start_time": "2025-08-29T17:11:16.198Z"
   },
   {
    "duration": 6,
    "start_time": "2025-08-29T17:11:33.466Z"
   },
   {
    "duration": 394,
    "start_time": "2025-08-29T17:11:51.101Z"
   },
   {
    "duration": 151,
    "start_time": "2025-08-29T17:11:51.497Z"
   },
   {
    "duration": 15,
    "start_time": "2025-08-29T17:11:51.650Z"
   },
   {
    "duration": 23,
    "start_time": "2025-08-29T17:11:51.667Z"
   },
   {
    "duration": 6,
    "start_time": "2025-08-29T17:11:51.692Z"
   },
   {
    "duration": 769,
    "start_time": "2025-08-29T17:13:19.828Z"
   },
   {
    "duration": 9,
    "start_time": "2025-08-29T17:13:53.706Z"
   },
   {
    "duration": 58,
    "start_time": "2025-08-29T17:14:01.098Z"
   },
   {
    "duration": 16,
    "start_time": "2025-08-29T17:14:14.726Z"
   },
   {
    "duration": 8,
    "start_time": "2025-08-29T17:17:39.913Z"
   },
   {
    "duration": 8,
    "start_time": "2025-08-29T17:17:54.546Z"
   },
   {
    "duration": 7,
    "start_time": "2025-08-29T17:17:59.111Z"
   },
   {
    "duration": 7,
    "start_time": "2025-08-29T17:19:41.157Z"
   },
   {
    "duration": 7,
    "start_time": "2025-08-29T17:20:24.628Z"
   },
   {
    "duration": 5,
    "start_time": "2025-08-29T17:21:33.391Z"
   },
   {
    "duration": 4,
    "start_time": "2025-08-29T17:21:36.756Z"
   },
   {
    "duration": 5,
    "start_time": "2025-08-29T17:21:39.685Z"
   },
   {
    "duration": 5,
    "start_time": "2025-08-29T17:22:30.625Z"
   },
   {
    "duration": 6,
    "start_time": "2025-08-29T17:23:14.925Z"
   },
   {
    "duration": 5,
    "start_time": "2025-08-29T17:24:17.305Z"
   },
   {
    "duration": 7,
    "start_time": "2025-08-29T17:25:58.781Z"
   },
   {
    "duration": 5,
    "start_time": "2025-08-29T17:26:06.885Z"
   },
   {
    "duration": 5,
    "start_time": "2025-08-29T17:26:15.942Z"
   },
   {
    "duration": 8,
    "start_time": "2025-08-29T17:32:31.084Z"
   },
   {
    "duration": 5,
    "start_time": "2025-08-29T17:32:53.107Z"
   },
   {
    "duration": 3,
    "start_time": "2025-08-29T17:33:21.490Z"
   },
   {
    "duration": 4,
    "start_time": "2025-08-29T17:33:27.452Z"
   },
   {
    "duration": 3,
    "start_time": "2025-08-29T17:36:20.467Z"
   },
   {
    "duration": 7,
    "start_time": "2025-08-29T17:36:31.121Z"
   },
   {
    "duration": 4,
    "start_time": "2025-08-29T17:37:10.988Z"
   },
   {
    "duration": 34,
    "start_time": "2025-08-29T17:37:50.249Z"
   },
   {
    "duration": 5,
    "start_time": "2025-08-29T17:38:36.218Z"
   },
   {
    "duration": 3,
    "start_time": "2025-08-29T17:38:38.274Z"
   },
   {
    "duration": 6,
    "start_time": "2025-08-29T17:38:52.835Z"
   },
   {
    "duration": 14,
    "start_time": "2025-08-29T17:39:02.150Z"
   },
   {
    "duration": 6,
    "start_time": "2025-08-29T17:43:53.151Z"
   },
   {
    "duration": 4,
    "start_time": "2025-08-29T17:46:20.630Z"
   },
   {
    "duration": 4,
    "start_time": "2025-08-29T17:46:53.795Z"
   },
   {
    "duration": 3,
    "start_time": "2025-08-29T17:46:55.946Z"
   },
   {
    "duration": 21,
    "start_time": "2025-08-29T17:48:42.083Z"
   },
   {
    "duration": 5,
    "start_time": "2025-08-29T17:52:42.104Z"
   },
   {
    "duration": 9,
    "start_time": "2025-08-29T17:54:11.232Z"
   },
   {
    "duration": 8,
    "start_time": "2025-08-29T17:54:25.171Z"
   },
   {
    "duration": 8,
    "start_time": "2025-08-29T17:54:36.858Z"
   },
   {
    "duration": 7,
    "start_time": "2025-08-29T17:54:42.483Z"
   },
   {
    "duration": 8,
    "start_time": "2025-08-29T17:54:56.878Z"
   },
   {
    "duration": 8,
    "start_time": "2025-08-29T17:55:07.137Z"
   },
   {
    "duration": 4,
    "start_time": "2025-08-29T17:55:37.251Z"
   },
   {
    "duration": 110,
    "start_time": "2025-08-29T17:56:16.374Z"
   },
   {
    "duration": 11,
    "start_time": "2025-08-29T17:56:20.024Z"
   },
   {
    "duration": 11,
    "start_time": "2025-08-29T17:56:23.024Z"
   },
   {
    "duration": 11,
    "start_time": "2025-08-29T17:56:27.011Z"
   },
   {
    "duration": 11,
    "start_time": "2025-08-29T17:58:01.034Z"
   },
   {
    "duration": 15,
    "start_time": "2025-08-29T17:58:07.560Z"
   },
   {
    "duration": 24,
    "start_time": "2025-08-29T17:58:17.075Z"
   },
   {
    "duration": 4,
    "start_time": "2025-08-29T17:58:29.079Z"
   },
   {
    "duration": 4,
    "start_time": "2025-08-29T17:58:31.103Z"
   },
   {
    "duration": 103,
    "start_time": "2025-08-29T18:01:23.728Z"
   },
   {
    "duration": 7,
    "start_time": "2025-08-29T18:01:29.314Z"
   },
   {
    "duration": 6,
    "start_time": "2025-08-29T18:01:37.863Z"
   },
   {
    "duration": 5,
    "start_time": "2025-08-29T18:02:59.311Z"
   },
   {
    "duration": 5,
    "start_time": "2025-08-29T18:06:29.156Z"
   },
   {
    "duration": 4,
    "start_time": "2025-08-29T18:11:37.840Z"
   },
   {
    "duration": 5,
    "start_time": "2025-08-29T18:15:06.409Z"
   },
   {
    "duration": 3,
    "start_time": "2025-08-29T18:15:23.842Z"
   },
   {
    "duration": 141,
    "start_time": "2025-08-29T18:15:25.432Z"
   },
   {
    "duration": 14,
    "start_time": "2025-08-29T18:15:27.121Z"
   },
   {
    "duration": 4,
    "start_time": "2025-08-29T18:15:39.903Z"
   },
   {
    "duration": 4,
    "start_time": "2025-08-29T18:15:41.156Z"
   },
   {
    "duration": 5,
    "start_time": "2025-08-29T18:15:45.130Z"
   },
   {
    "duration": 5,
    "start_time": "2025-08-29T18:16:20.536Z"
   },
   {
    "duration": 5,
    "start_time": "2025-08-29T18:16:51.357Z"
   },
   {
    "duration": 5,
    "start_time": "2025-08-29T18:17:08.102Z"
   },
   {
    "duration": 387,
    "start_time": "2025-08-29T18:22:27.517Z"
   },
   {
    "duration": 128,
    "start_time": "2025-08-29T18:22:27.906Z"
   },
   {
    "duration": 17,
    "start_time": "2025-08-29T18:22:28.036Z"
   },
   {
    "duration": 20,
    "start_time": "2025-08-29T18:22:28.055Z"
   },
   {
    "duration": 4,
    "start_time": "2025-08-29T18:22:28.077Z"
   },
   {
    "duration": 4,
    "start_time": "2025-08-29T18:22:28.087Z"
   },
   {
    "duration": 6,
    "start_time": "2025-08-29T18:22:28.093Z"
   },
   {
    "duration": 4,
    "start_time": "2025-08-29T18:22:28.100Z"
   },
   {
    "duration": 23,
    "start_time": "2025-08-29T18:22:28.105Z"
   },
   {
    "duration": 8,
    "start_time": "2025-08-29T18:22:28.130Z"
   },
   {
    "duration": 5,
    "start_time": "2025-08-29T18:22:28.140Z"
   },
   {
    "duration": 18,
    "start_time": "2025-08-29T18:27:12.686Z"
   },
   {
    "duration": 9,
    "start_time": "2025-08-29T18:27:19.771Z"
   },
   {
    "duration": 13,
    "start_time": "2025-08-29T18:27:32.640Z"
   },
   {
    "duration": 9,
    "start_time": "2025-08-29T18:27:52.268Z"
   },
   {
    "duration": 11,
    "start_time": "2025-08-29T18:30:38.136Z"
   },
   {
    "duration": 9,
    "start_time": "2025-08-29T18:30:50.636Z"
   },
   {
    "duration": 29,
    "start_time": "2025-08-29T18:30:56.622Z"
   },
   {
    "duration": 9,
    "start_time": "2025-08-29T18:31:06.285Z"
   },
   {
    "duration": 10,
    "start_time": "2025-08-29T18:31:15.683Z"
   },
   {
    "duration": 8,
    "start_time": "2025-08-29T18:31:20.618Z"
   },
   {
    "duration": 4,
    "start_time": "2025-08-29T18:33:06.784Z"
   },
   {
    "duration": 3,
    "start_time": "2025-08-29T18:33:10.346Z"
   },
   {
    "duration": 3,
    "start_time": "2025-08-29T18:33:18.174Z"
   },
   {
    "duration": 26,
    "start_time": "2025-08-29T18:33:21.038Z"
   },
   {
    "duration": 27,
    "start_time": "2025-08-29T18:33:30.019Z"
   },
   {
    "duration": 10,
    "start_time": "2025-08-29T18:33:37.703Z"
   },
   {
    "duration": 8,
    "start_time": "2025-08-29T18:33:44.071Z"
   },
   {
    "duration": 7,
    "start_time": "2025-08-29T18:34:03.258Z"
   },
   {
    "duration": 74,
    "start_time": "2025-08-29T18:35:08.706Z"
   },
   {
    "duration": 4,
    "start_time": "2025-08-29T18:35:17.913Z"
   },
   {
    "duration": 8,
    "start_time": "2025-08-29T18:36:23.722Z"
   },
   {
    "duration": 5,
    "start_time": "2025-08-29T18:48:05.134Z"
   },
   {
    "duration": 15,
    "start_time": "2025-08-29T18:49:22.493Z"
   },
   {
    "duration": 10,
    "start_time": "2025-08-29T18:52:34.331Z"
   },
   {
    "duration": 20,
    "start_time": "2025-08-29T18:59:31.371Z"
   },
   {
    "duration": 21,
    "start_time": "2025-08-29T19:00:00.474Z"
   },
   {
    "duration": 24,
    "start_time": "2025-08-29T19:00:38.448Z"
   },
   {
    "duration": 20,
    "start_time": "2025-08-29T19:00:54.934Z"
   },
   {
    "duration": 16,
    "start_time": "2025-08-29T19:01:00.637Z"
   },
   {
    "duration": 22,
    "start_time": "2025-08-29T19:01:17.503Z"
   },
   {
    "duration": 9,
    "start_time": "2025-08-29T19:02:52.549Z"
   },
   {
    "duration": 25,
    "start_time": "2025-08-29T19:03:00.499Z"
   },
   {
    "duration": 9,
    "start_time": "2025-08-29T19:04:50.981Z"
   },
   {
    "duration": 27,
    "start_time": "2025-08-29T19:04:56.797Z"
   },
   {
    "duration": 22,
    "start_time": "2025-08-29T19:17:01.992Z"
   },
   {
    "duration": 7,
    "start_time": "2025-08-29T19:19:24.875Z"
   },
   {
    "duration": 4,
    "start_time": "2025-08-29T19:19:33.461Z"
   },
   {
    "duration": 5,
    "start_time": "2025-08-29T19:19:45.617Z"
   },
   {
    "duration": 438,
    "start_time": "2025-08-29T19:23:45.278Z"
   },
   {
    "duration": 137,
    "start_time": "2025-08-29T19:23:45.718Z"
   },
   {
    "duration": 16,
    "start_time": "2025-08-29T19:23:45.857Z"
   },
   {
    "duration": 21,
    "start_time": "2025-08-29T19:23:45.875Z"
   },
   {
    "duration": 8,
    "start_time": "2025-08-29T19:23:45.897Z"
   },
   {
    "duration": 5,
    "start_time": "2025-08-29T19:23:45.906Z"
   },
   {
    "duration": 5,
    "start_time": "2025-08-29T19:23:45.912Z"
   },
   {
    "duration": 4,
    "start_time": "2025-08-29T19:23:45.918Z"
   },
   {
    "duration": 25,
    "start_time": "2025-08-29T19:23:45.923Z"
   },
   {
    "duration": 9,
    "start_time": "2025-08-29T19:23:45.950Z"
   },
   {
    "duration": 5,
    "start_time": "2025-08-29T19:23:45.988Z"
   },
   {
    "duration": 14,
    "start_time": "2025-08-29T19:23:45.994Z"
   },
   {
    "duration": 10,
    "start_time": "2025-08-29T19:23:46.010Z"
   },
   {
    "duration": 11,
    "start_time": "2025-08-29T19:23:46.022Z"
   },
   {
    "duration": 36,
    "start_time": "2025-08-29T19:23:46.034Z"
   },
   {
    "duration": 49,
    "start_time": "2025-08-29T19:23:57.323Z"
   },
   {
    "duration": 381,
    "start_time": "2025-08-29T19:24:03.530Z"
   },
   {
    "duration": 128,
    "start_time": "2025-08-29T19:24:03.913Z"
   },
   {
    "duration": 21,
    "start_time": "2025-08-29T19:24:04.044Z"
   },
   {
    "duration": 36,
    "start_time": "2025-08-29T19:24:04.067Z"
   },
   {
    "duration": 5,
    "start_time": "2025-08-29T19:24:04.105Z"
   },
   {
    "duration": 6,
    "start_time": "2025-08-29T19:24:04.111Z"
   },
   {
    "duration": 15,
    "start_time": "2025-08-29T19:24:04.118Z"
   },
   {
    "duration": 6,
    "start_time": "2025-08-29T19:24:04.134Z"
   },
   {
    "duration": 19,
    "start_time": "2025-08-29T19:24:04.141Z"
   },
   {
    "duration": 9,
    "start_time": "2025-08-29T19:24:04.161Z"
   },
   {
    "duration": 17,
    "start_time": "2025-08-29T19:24:04.171Z"
   },
   {
    "duration": 9,
    "start_time": "2025-08-29T19:24:04.189Z"
   },
   {
    "duration": 15,
    "start_time": "2025-08-29T19:24:04.199Z"
   },
   {
    "duration": 6,
    "start_time": "2025-08-29T19:24:04.217Z"
   },
   {
    "duration": 22,
    "start_time": "2025-08-29T19:24:04.225Z"
   },
   {
    "duration": 93,
    "start_time": "2025-08-29T19:24:04.249Z"
   },
   {
    "duration": 10,
    "start_time": "2025-08-29T19:24:38.913Z"
   },
   {
    "duration": 8,
    "start_time": "2025-08-29T19:24:41.830Z"
   },
   {
    "duration": 10,
    "start_time": "2025-08-29T19:26:01.626Z"
   },
   {
    "duration": 420,
    "start_time": "2025-08-29T19:26:43.177Z"
   },
   {
    "duration": 122,
    "start_time": "2025-08-29T19:26:43.599Z"
   },
   {
    "duration": 19,
    "start_time": "2025-08-29T19:26:43.723Z"
   },
   {
    "duration": 31,
    "start_time": "2025-08-29T19:26:43.744Z"
   },
   {
    "duration": 58,
    "start_time": "2025-08-29T19:26:43.777Z"
   },
   {
    "duration": 42,
    "start_time": "2025-08-29T19:26:43.837Z"
   },
   {
    "duration": 25,
    "start_time": "2025-08-29T19:26:43.881Z"
   },
   {
    "duration": 48,
    "start_time": "2025-08-29T19:26:43.907Z"
   },
   {
    "duration": 63,
    "start_time": "2025-08-29T19:26:43.958Z"
   },
   {
    "duration": 21,
    "start_time": "2025-08-29T19:26:44.023Z"
   },
   {
    "duration": 49,
    "start_time": "2025-08-29T19:26:44.046Z"
   },
   {
    "duration": 57,
    "start_time": "2025-08-29T19:26:44.096Z"
   },
   {
    "duration": 35,
    "start_time": "2025-08-29T19:26:44.155Z"
   },
   {
    "duration": 57,
    "start_time": "2025-08-29T19:26:44.191Z"
   },
   {
    "duration": 55,
    "start_time": "2025-08-29T19:26:44.250Z"
   },
   {
    "duration": 88,
    "start_time": "2025-08-29T19:26:44.306Z"
   },
   {
    "duration": 9,
    "start_time": "2025-08-29T19:26:52.984Z"
   },
   {
    "duration": 3,
    "start_time": "2025-08-29T19:26:56.429Z"
   },
   {
    "duration": 10,
    "start_time": "2025-08-29T19:28:26.720Z"
   },
   {
    "duration": 22,
    "start_time": "2025-08-29T19:29:19.200Z"
   },
   {
    "duration": 49,
    "start_time": "2025-08-29T19:29:52.035Z"
   },
   {
    "duration": 7,
    "start_time": "2025-08-29T19:29:57.179Z"
   },
   {
    "duration": 439,
    "start_time": "2025-08-29T19:30:03.789Z"
   },
   {
    "duration": 119,
    "start_time": "2025-08-29T19:30:04.230Z"
   },
   {
    "duration": 15,
    "start_time": "2025-08-29T19:30:04.351Z"
   },
   {
    "duration": 77,
    "start_time": "2025-08-29T19:30:04.368Z"
   },
   {
    "duration": 4,
    "start_time": "2025-08-29T19:30:04.447Z"
   },
   {
    "duration": 46,
    "start_time": "2025-08-29T19:30:04.453Z"
   },
   {
    "duration": 21,
    "start_time": "2025-08-29T19:30:04.500Z"
   },
   {
    "duration": 9,
    "start_time": "2025-08-29T19:30:04.523Z"
   },
   {
    "duration": 28,
    "start_time": "2025-08-29T19:30:04.533Z"
   },
   {
    "duration": 42,
    "start_time": "2025-08-29T19:30:04.563Z"
   },
   {
    "duration": 40,
    "start_time": "2025-08-29T19:30:04.607Z"
   },
   {
    "duration": 43,
    "start_time": "2025-08-29T19:30:04.649Z"
   },
   {
    "duration": 44,
    "start_time": "2025-08-29T19:30:04.693Z"
   },
   {
    "duration": 6,
    "start_time": "2025-08-29T19:30:04.739Z"
   },
   {
    "duration": 41,
    "start_time": "2025-08-29T19:30:04.747Z"
   },
   {
    "duration": 22,
    "start_time": "2025-08-29T19:30:04.790Z"
   },
   {
    "duration": 80,
    "start_time": "2025-08-29T19:30:42.899Z"
   },
   {
    "duration": 30,
    "start_time": "2025-08-29T19:31:51.487Z"
   },
   {
    "duration": 435,
    "start_time": "2025-08-29T19:32:06.666Z"
   },
   {
    "duration": 126,
    "start_time": "2025-08-29T19:32:07.103Z"
   },
   {
    "duration": 16,
    "start_time": "2025-08-29T19:32:07.231Z"
   },
   {
    "duration": 28,
    "start_time": "2025-08-29T19:32:07.249Z"
   },
   {
    "duration": 4,
    "start_time": "2025-08-29T19:32:07.279Z"
   },
   {
    "duration": 13,
    "start_time": "2025-08-29T19:32:07.285Z"
   },
   {
    "duration": 29,
    "start_time": "2025-08-29T19:32:07.299Z"
   },
   {
    "duration": 18,
    "start_time": "2025-08-29T19:32:07.329Z"
   },
   {
    "duration": 33,
    "start_time": "2025-08-29T19:32:07.349Z"
   },
   {
    "duration": 8,
    "start_time": "2025-08-29T19:32:07.385Z"
   },
   {
    "duration": 6,
    "start_time": "2025-08-29T19:32:07.394Z"
   },
   {
    "duration": 36,
    "start_time": "2025-08-29T19:32:07.401Z"
   },
   {
    "duration": 14,
    "start_time": "2025-08-29T19:32:07.439Z"
   },
   {
    "duration": 8,
    "start_time": "2025-08-29T19:32:07.454Z"
   },
   {
    "duration": 29,
    "start_time": "2025-08-29T19:32:07.463Z"
   },
   {
    "duration": 53,
    "start_time": "2025-08-29T19:32:15.211Z"
   },
   {
    "duration": 7,
    "start_time": "2025-08-29T19:33:47.470Z"
   },
   {
    "duration": 6,
    "start_time": "2025-08-29T19:33:54.442Z"
   },
   {
    "duration": 444,
    "start_time": "2025-08-29T19:34:02.579Z"
   },
   {
    "duration": 138,
    "start_time": "2025-08-29T19:34:03.025Z"
   },
   {
    "duration": 18,
    "start_time": "2025-08-29T19:34:03.165Z"
   },
   {
    "duration": 59,
    "start_time": "2025-08-29T19:34:03.185Z"
   },
   {
    "duration": 14,
    "start_time": "2025-08-29T19:34:03.246Z"
   },
   {
    "duration": 25,
    "start_time": "2025-08-29T19:34:03.262Z"
   },
   {
    "duration": 10,
    "start_time": "2025-08-29T19:34:03.289Z"
   },
   {
    "duration": 22,
    "start_time": "2025-08-29T19:34:03.301Z"
   },
   {
    "duration": 23,
    "start_time": "2025-08-29T19:34:03.325Z"
   },
   {
    "duration": 8,
    "start_time": "2025-08-29T19:34:03.350Z"
   },
   {
    "duration": 4,
    "start_time": "2025-08-29T19:34:03.360Z"
   },
   {
    "duration": 19,
    "start_time": "2025-08-29T19:34:03.366Z"
   },
   {
    "duration": 26,
    "start_time": "2025-08-29T19:34:03.386Z"
   },
   {
    "duration": 10,
    "start_time": "2025-08-29T19:34:03.414Z"
   },
   {
    "duration": 22,
    "start_time": "2025-08-29T19:34:03.426Z"
   },
   {
    "duration": 21,
    "start_time": "2025-08-29T19:34:03.449Z"
   },
   {
    "duration": 27,
    "start_time": "2025-08-29T19:34:15.473Z"
   },
   {
    "duration": 475,
    "start_time": "2025-08-29T19:35:29.457Z"
   },
   {
    "duration": 4,
    "start_time": "2025-08-29T19:35:50.248Z"
   },
   {
    "duration": 385,
    "start_time": "2025-08-29T19:36:05.597Z"
   },
   {
    "duration": 365,
    "start_time": "2025-08-29T19:36:35.564Z"
   },
   {
    "duration": 39,
    "start_time": "2025-08-29T19:37:42.919Z"
   },
   {
    "duration": 1407,
    "start_time": "2025-08-29T19:37:50.070Z"
   },
   {
    "duration": 56,
    "start_time": "2025-08-29T19:38:27.541Z"
   },
   {
    "duration": 93,
    "start_time": "2025-08-29T19:58:55.626Z"
   },
   {
    "duration": 9,
    "start_time": "2025-08-29T20:03:31.795Z"
   },
   {
    "duration": 7,
    "start_time": "2025-08-29T20:03:41.120Z"
   },
   {
    "duration": 13,
    "start_time": "2025-08-29T20:04:00.625Z"
   },
   {
    "duration": 12,
    "start_time": "2025-08-29T20:04:08.990Z"
   },
   {
    "duration": 8,
    "start_time": "2025-08-29T20:04:20.570Z"
   },
   {
    "duration": 7,
    "start_time": "2025-08-29T20:04:56.551Z"
   },
   {
    "duration": 6,
    "start_time": "2025-08-29T20:05:02.756Z"
   },
   {
    "duration": 31,
    "start_time": "2025-08-29T20:05:07.981Z"
   },
   {
    "duration": 12,
    "start_time": "2025-08-29T20:05:25.089Z"
   },
   {
    "duration": 5,
    "start_time": "2025-08-29T20:05:58.226Z"
   },
   {
    "duration": 7,
    "start_time": "2025-08-29T20:14:59.113Z"
   },
   {
    "duration": 22,
    "start_time": "2025-08-29T20:15:57.561Z"
   },
   {
    "duration": 139,
    "start_time": "2025-08-29T20:16:00.309Z"
   },
   {
    "duration": 28,
    "start_time": "2025-08-29T20:20:39.159Z"
   },
   {
    "duration": 5,
    "start_time": "2025-08-29T20:22:23.904Z"
   },
   {
    "duration": 396,
    "start_time": "2025-08-29T20:22:40.503Z"
   },
   {
    "duration": 130,
    "start_time": "2025-08-29T20:22:40.901Z"
   },
   {
    "duration": 16,
    "start_time": "2025-08-29T20:22:41.032Z"
   },
   {
    "duration": 19,
    "start_time": "2025-08-29T20:22:41.050Z"
   },
   {
    "duration": 4,
    "start_time": "2025-08-29T20:22:41.071Z"
   },
   {
    "duration": 5,
    "start_time": "2025-08-29T20:22:41.087Z"
   },
   {
    "duration": 6,
    "start_time": "2025-08-29T20:22:41.093Z"
   },
   {
    "duration": 4,
    "start_time": "2025-08-29T20:22:41.101Z"
   },
   {
    "duration": 20,
    "start_time": "2025-08-29T20:22:41.107Z"
   },
   {
    "duration": 10,
    "start_time": "2025-08-29T20:22:41.129Z"
   },
   {
    "duration": 6,
    "start_time": "2025-08-29T20:22:41.140Z"
   },
   {
    "duration": 46,
    "start_time": "2025-08-29T20:22:41.148Z"
   },
   {
    "duration": 12,
    "start_time": "2025-08-29T20:22:41.196Z"
   },
   {
    "duration": 6,
    "start_time": "2025-08-29T20:22:41.211Z"
   },
   {
    "duration": 7,
    "start_time": "2025-08-29T20:22:41.219Z"
   },
   {
    "duration": 3,
    "start_time": "2025-08-29T20:22:41.228Z"
   },
   {
    "duration": 112,
    "start_time": "2025-08-29T20:22:41.233Z"
   },
   {
    "duration": 387,
    "start_time": "2025-08-29T20:23:04.610Z"
   },
   {
    "duration": 116,
    "start_time": "2025-08-29T20:23:04.999Z"
   },
   {
    "duration": 18,
    "start_time": "2025-08-29T20:23:05.117Z"
   },
   {
    "duration": 18,
    "start_time": "2025-08-29T20:23:05.137Z"
   },
   {
    "duration": 5,
    "start_time": "2025-08-29T20:23:05.157Z"
   },
   {
    "duration": 25,
    "start_time": "2025-08-29T20:23:05.164Z"
   },
   {
    "duration": 4,
    "start_time": "2025-08-29T20:23:05.190Z"
   },
   {
    "duration": 14,
    "start_time": "2025-08-29T20:23:05.196Z"
   },
   {
    "duration": 32,
    "start_time": "2025-08-29T20:23:05.211Z"
   },
   {
    "duration": 8,
    "start_time": "2025-08-29T20:23:05.246Z"
   },
   {
    "duration": 4,
    "start_time": "2025-08-29T20:23:05.256Z"
   },
   {
    "duration": 8,
    "start_time": "2025-08-29T20:23:05.261Z"
   },
   {
    "duration": 24,
    "start_time": "2025-08-29T20:23:05.270Z"
   },
   {
    "duration": 7,
    "start_time": "2025-08-29T20:23:05.296Z"
   },
   {
    "duration": 14,
    "start_time": "2025-08-29T20:23:05.305Z"
   },
   {
    "duration": 10,
    "start_time": "2025-08-29T20:23:05.321Z"
   },
   {
    "duration": 95,
    "start_time": "2025-08-29T20:23:05.332Z"
   },
   {
    "duration": 338,
    "start_time": "2025-08-29T20:23:32.668Z"
   },
   {
    "duration": 9,
    "start_time": "2025-08-29T20:24:12.624Z"
   },
   {
    "duration": 5,
    "start_time": "2025-08-29T20:25:29.080Z"
   },
   {
    "duration": 22624,
    "start_time": "2025-08-29T20:25:47.537Z"
   },
   {
    "duration": 7838,
    "start_time": "2025-08-29T20:26:22.698Z"
   },
   {
    "duration": 5662,
    "start_time": "2025-08-29T20:26:33.419Z"
   },
   {
    "duration": 5638,
    "start_time": "2025-08-29T20:26:55.201Z"
   },
   {
    "duration": 9,
    "start_time": "2025-08-29T20:27:16.394Z"
   },
   {
    "duration": 10919,
    "start_time": "2025-08-29T20:30:27.218Z"
   },
   {
    "duration": 6793,
    "start_time": "2025-08-29T20:30:39.842Z"
   },
   {
    "duration": 9,
    "start_time": "2025-08-29T20:31:08.319Z"
   },
   {
    "duration": 8,
    "start_time": "2025-08-29T20:31:15.400Z"
   },
   {
    "duration": 11,
    "start_time": "2025-08-29T20:31:52.908Z"
   },
   {
    "duration": 10,
    "start_time": "2025-08-29T20:32:08.632Z"
   },
   {
    "duration": 11,
    "start_time": "2025-08-29T20:32:22.624Z"
   },
   {
    "duration": 12,
    "start_time": "2025-08-29T20:36:39.573Z"
   },
   {
    "duration": 12,
    "start_time": "2025-08-29T20:37:04.277Z"
   },
   {
    "duration": 8,
    "start_time": "2025-08-29T20:40:33.722Z"
   },
   {
    "duration": 5,
    "start_time": "2025-08-29T20:41:11.961Z"
   },
   {
    "duration": 10,
    "start_time": "2025-08-29T20:41:21.727Z"
   },
   {
    "duration": 419,
    "start_time": "2025-08-29T20:41:37.876Z"
   },
   {
    "duration": 108,
    "start_time": "2025-08-29T20:41:38.297Z"
   },
   {
    "duration": 17,
    "start_time": "2025-08-29T20:41:38.407Z"
   },
   {
    "duration": 20,
    "start_time": "2025-08-29T20:41:38.425Z"
   },
   {
    "duration": 6,
    "start_time": "2025-08-29T20:41:38.448Z"
   },
   {
    "duration": 6,
    "start_time": "2025-08-29T20:41:38.455Z"
   },
   {
    "duration": 5,
    "start_time": "2025-08-29T20:41:38.487Z"
   },
   {
    "duration": 4,
    "start_time": "2025-08-29T20:41:38.494Z"
   },
   {
    "duration": 24,
    "start_time": "2025-08-29T20:41:38.500Z"
   },
   {
    "duration": 10,
    "start_time": "2025-08-29T20:41:38.526Z"
   },
   {
    "duration": 6,
    "start_time": "2025-08-29T20:41:38.538Z"
   },
   {
    "duration": 45,
    "start_time": "2025-08-29T20:41:38.546Z"
   },
   {
    "duration": 11,
    "start_time": "2025-08-29T20:41:38.593Z"
   },
   {
    "duration": 7,
    "start_time": "2025-08-29T20:41:38.608Z"
   },
   {
    "duration": 41,
    "start_time": "2025-08-29T20:41:38.617Z"
   },
   {
    "duration": 22,
    "start_time": "2025-08-29T20:41:38.660Z"
   },
   {
    "duration": 333,
    "start_time": "2025-08-29T20:41:38.684Z"
   },
   {
    "duration": 358,
    "start_time": "2025-08-29T20:41:51.642Z"
   },
   {
    "duration": 105,
    "start_time": "2025-08-29T20:41:52.001Z"
   },
   {
    "duration": 16,
    "start_time": "2025-08-29T20:41:52.107Z"
   },
   {
    "duration": 19,
    "start_time": "2025-08-29T20:41:52.125Z"
   },
   {
    "duration": 7,
    "start_time": "2025-08-29T20:41:52.145Z"
   },
   {
    "duration": 6,
    "start_time": "2025-08-29T20:41:52.153Z"
   },
   {
    "duration": 4,
    "start_time": "2025-08-29T20:41:52.160Z"
   },
   {
    "duration": 24,
    "start_time": "2025-08-29T20:41:52.166Z"
   },
   {
    "duration": 35,
    "start_time": "2025-08-29T20:41:52.191Z"
   },
   {
    "duration": 50,
    "start_time": "2025-08-29T20:41:52.228Z"
   },
   {
    "duration": 49,
    "start_time": "2025-08-29T20:41:52.280Z"
   },
   {
    "duration": 54,
    "start_time": "2025-08-29T20:41:52.331Z"
   },
   {
    "duration": 39,
    "start_time": "2025-08-29T20:41:52.386Z"
   },
   {
    "duration": 48,
    "start_time": "2025-08-29T20:41:52.426Z"
   },
   {
    "duration": 14,
    "start_time": "2025-08-29T20:41:52.476Z"
   },
   {
    "duration": 38,
    "start_time": "2025-08-29T20:41:52.491Z"
   },
   {
    "duration": 360,
    "start_time": "2025-08-29T20:41:52.531Z"
   },
   {
    "duration": 26931,
    "start_time": "2025-08-29T20:41:52.892Z"
   },
   {
    "duration": 11,
    "start_time": "2025-08-29T20:42:19.824Z"
   },
   {
    "duration": 5,
    "start_time": "2025-08-29T20:42:19.836Z"
   },
   {
    "duration": 8,
    "start_time": "2025-08-29T20:42:19.854Z"
   },
   {
    "duration": 25,
    "start_time": "2025-08-29T20:42:19.863Z"
   },
   {
    "duration": 325,
    "start_time": "2025-08-29T20:42:19.890Z"
   },
   {
    "duration": 26978,
    "start_time": "2025-08-29T20:42:20.376Z"
   },
   {
    "duration": 10,
    "start_time": "2025-08-29T20:42:47.356Z"
   },
   {
    "duration": 19,
    "start_time": "2025-08-29T20:42:47.368Z"
   },
   {
    "duration": 10,
    "start_time": "2025-08-29T20:42:56.118Z"
   },
   {
    "duration": 4,
    "start_time": "2025-08-29T20:43:28.170Z"
   },
   {
    "duration": 10,
    "start_time": "2025-08-29T20:43:30.813Z"
   },
   {
    "duration": 8,
    "start_time": "2025-08-29T20:43:43.928Z"
   },
   {
    "duration": 5,
    "start_time": "2025-08-29T20:43:44.752Z"
   },
   {
    "duration": 320,
    "start_time": "2025-08-29T20:43:45.352Z"
   },
   {
    "duration": 27651,
    "start_time": "2025-08-29T20:43:46.553Z"
   },
   {
    "duration": 11,
    "start_time": "2025-08-29T20:44:14.206Z"
   },
   {
    "duration": 5,
    "start_time": "2025-08-29T20:44:14.219Z"
   },
   {
    "duration": 16,
    "start_time": "2025-08-29T20:44:14.226Z"
   },
   {
    "duration": 373,
    "start_time": "2025-08-29T20:44:45.544Z"
   },
   {
    "duration": 135,
    "start_time": "2025-08-29T20:44:45.919Z"
   },
   {
    "duration": 16,
    "start_time": "2025-08-29T20:44:46.055Z"
   },
   {
    "duration": 20,
    "start_time": "2025-08-29T20:44:46.073Z"
   },
   {
    "duration": 6,
    "start_time": "2025-08-29T20:44:46.095Z"
   },
   {
    "duration": 6,
    "start_time": "2025-08-29T20:44:46.102Z"
   },
   {
    "duration": 6,
    "start_time": "2025-08-29T20:44:46.110Z"
   },
   {
    "duration": 17,
    "start_time": "2025-08-29T20:44:46.117Z"
   },
   {
    "duration": 28,
    "start_time": "2025-08-29T20:44:46.135Z"
   },
   {
    "duration": 12,
    "start_time": "2025-08-29T20:44:46.165Z"
   },
   {
    "duration": 11,
    "start_time": "2025-08-29T20:44:46.179Z"
   },
   {
    "duration": 9,
    "start_time": "2025-08-29T20:44:46.192Z"
   },
   {
    "duration": 10,
    "start_time": "2025-08-29T20:44:46.203Z"
   },
   {
    "duration": 8,
    "start_time": "2025-08-29T20:44:46.216Z"
   },
   {
    "duration": 18,
    "start_time": "2025-08-29T20:44:46.225Z"
   },
   {
    "duration": 10,
    "start_time": "2025-08-29T20:44:46.244Z"
   },
   {
    "duration": 362,
    "start_time": "2025-08-29T20:44:46.256Z"
   },
   {
    "duration": 26852,
    "start_time": "2025-08-29T20:44:46.620Z"
   },
   {
    "duration": 15,
    "start_time": "2025-08-29T20:45:13.474Z"
   },
   {
    "duration": 5,
    "start_time": "2025-08-29T20:45:13.490Z"
   },
   {
    "duration": 8,
    "start_time": "2025-08-29T20:45:13.497Z"
   },
   {
    "duration": 132,
    "start_time": "2025-08-29T20:46:29.715Z"
   },
   {
    "duration": 73,
    "start_time": "2025-08-29T20:46:36.349Z"
   },
   {
    "duration": 5,
    "start_time": "2025-08-29T20:46:53.080Z"
   },
   {
    "duration": 5,
    "start_time": "2025-08-29T20:46:58.600Z"
   },
   {
    "duration": 8,
    "start_time": "2025-08-29T20:47:04.873Z"
   },
   {
    "duration": 386,
    "start_time": "2025-08-30T06:01:31.192Z"
   },
   {
    "duration": 191,
    "start_time": "2025-08-30T06:01:31.580Z"
   },
   {
    "duration": 16,
    "start_time": "2025-08-30T06:01:31.773Z"
   },
   {
    "duration": 24,
    "start_time": "2025-08-30T06:01:31.791Z"
   },
   {
    "duration": 26,
    "start_time": "2025-08-30T06:01:31.816Z"
   },
   {
    "duration": 12,
    "start_time": "2025-08-30T06:01:31.843Z"
   },
   {
    "duration": 40,
    "start_time": "2025-08-30T06:01:31.857Z"
   },
   {
    "duration": 39,
    "start_time": "2025-08-30T06:01:31.899Z"
   },
   {
    "duration": 20,
    "start_time": "2025-08-30T06:01:31.940Z"
   },
   {
    "duration": 9,
    "start_time": "2025-08-30T06:01:31.963Z"
   },
   {
    "duration": 12,
    "start_time": "2025-08-30T06:01:31.973Z"
   },
   {
    "duration": 11,
    "start_time": "2025-08-30T06:01:31.986Z"
   },
   {
    "duration": 15,
    "start_time": "2025-08-30T06:01:32.000Z"
   },
   {
    "duration": 35,
    "start_time": "2025-08-30T06:01:32.016Z"
   },
   {
    "duration": 9,
    "start_time": "2025-08-30T06:01:32.053Z"
   },
   {
    "duration": 17,
    "start_time": "2025-08-30T06:01:32.063Z"
   },
   {
    "duration": 352,
    "start_time": "2025-08-30T06:01:32.082Z"
   },
   {
    "duration": 27055,
    "start_time": "2025-08-30T06:01:32.436Z"
   },
   {
    "duration": 13,
    "start_time": "2025-08-30T06:01:59.493Z"
   },
   {
    "duration": 10,
    "start_time": "2025-08-30T06:01:59.507Z"
   },
   {
    "duration": 66,
    "start_time": "2025-08-30T06:02:23.166Z"
   },
   {
    "duration": 4,
    "start_time": "2025-08-30T06:02:27.805Z"
   },
   {
    "duration": 6,
    "start_time": "2025-08-30T06:02:56.399Z"
   },
   {
    "duration": 114,
    "start_time": "2025-08-30T06:03:53.206Z"
   },
   {
    "duration": 8,
    "start_time": "2025-08-30T06:03:56.871Z"
   },
   {
    "duration": 13,
    "start_time": "2025-08-30T06:04:08.427Z"
   },
   {
    "duration": 11,
    "start_time": "2025-08-30T06:04:22.082Z"
   },
   {
    "duration": 9,
    "start_time": "2025-08-30T06:04:37.147Z"
   },
   {
    "duration": 11,
    "start_time": "2025-08-30T06:07:26.286Z"
   },
   {
    "duration": 8,
    "start_time": "2025-08-30T06:07:32.363Z"
   },
   {
    "duration": 9,
    "start_time": "2025-08-30T06:07:50.613Z"
   },
   {
    "duration": 8,
    "start_time": "2025-08-30T06:07:56.432Z"
   },
   {
    "duration": 8,
    "start_time": "2025-08-30T06:10:08.333Z"
   },
   {
    "duration": 8,
    "start_time": "2025-08-30T06:11:03.480Z"
   },
   {
    "duration": 26,
    "start_time": "2025-08-30T06:12:25.848Z"
   },
   {
    "duration": 19,
    "start_time": "2025-08-30T06:12:29.131Z"
   },
   {
    "duration": 21,
    "start_time": "2025-08-30T06:12:42.762Z"
   },
   {
    "duration": 21,
    "start_time": "2025-08-30T06:12:46.960Z"
   },
   {
    "duration": 8,
    "start_time": "2025-08-30T06:12:57.217Z"
   },
   {
    "duration": 4,
    "start_time": "2025-08-30T06:13:27.226Z"
   },
   {
    "duration": 493,
    "start_time": "2025-08-30T11:19:10.244Z"
   },
   {
    "duration": 145,
    "start_time": "2025-08-30T11:19:11.109Z"
   },
   {
    "duration": 17,
    "start_time": "2025-08-30T11:19:13.079Z"
   },
   {
    "duration": 25,
    "start_time": "2025-08-30T11:19:16.531Z"
   },
   {
    "duration": 6,
    "start_time": "2025-08-30T11:19:20.538Z"
   },
   {
    "duration": 6,
    "start_time": "2025-08-30T11:19:23.727Z"
   },
   {
    "duration": 5,
    "start_time": "2025-08-30T11:19:30.226Z"
   },
   {
    "duration": 92,
    "start_time": "2025-08-30T11:20:08.667Z"
   },
   {
    "duration": 6,
    "start_time": "2025-08-30T11:20:18.232Z"
   },
   {
    "duration": 5,
    "start_time": "2025-08-30T11:20:27.030Z"
   },
   {
    "duration": 1442,
    "start_time": "2025-08-30T11:20:33.040Z"
   },
   {
    "duration": 0,
    "start_time": "2025-08-30T11:20:34.485Z"
   },
   {
    "duration": 1408,
    "start_time": "2025-08-30T11:20:34.664Z"
   },
   {
    "duration": 3,
    "start_time": "2025-08-30T11:20:53.907Z"
   },
   {
    "duration": 5,
    "start_time": "2025-08-30T11:21:29.506Z"
   },
   {
    "duration": 5,
    "start_time": "2025-08-30T11:21:30.803Z"
   },
   {
    "duration": 26,
    "start_time": "2025-08-30T11:21:33.784Z"
   },
   {
    "duration": 13,
    "start_time": "2025-08-30T11:21:35.361Z"
   },
   {
    "duration": 6,
    "start_time": "2025-08-30T11:21:39.583Z"
   },
   {
    "duration": 10,
    "start_time": "2025-08-30T11:28:24.256Z"
   },
   {
    "duration": 3629,
    "start_time": "2025-08-30T11:29:01.063Z"
   },
   {
    "duration": 1071,
    "start_time": "2025-08-30T11:29:39.714Z"
   },
   {
    "duration": 741,
    "start_time": "2025-08-30T11:30:12.885Z"
   },
   {
    "duration": 3,
    "start_time": "2025-08-30T11:34:00.073Z"
   },
   {
    "duration": 1430,
    "start_time": "2025-08-30T11:34:11.033Z"
   },
   {
    "duration": 131,
    "start_time": "2025-08-30T11:34:16.156Z"
   },
   {
    "duration": 21,
    "start_time": "2025-08-30T11:34:17.884Z"
   },
   {
    "duration": 22,
    "start_time": "2025-08-30T11:34:22.227Z"
   },
   {
    "duration": 7,
    "start_time": "2025-08-30T11:34:25.275Z"
   },
   {
    "duration": 6,
    "start_time": "2025-08-30T11:34:28.419Z"
   },
   {
    "duration": 7,
    "start_time": "2025-08-30T11:35:29.935Z"
   },
   {
    "duration": 7,
    "start_time": "2025-08-30T11:36:02.170Z"
   },
   {
    "duration": 1573,
    "start_time": "2025-08-30T11:42:11.019Z"
   },
   {
    "duration": 689,
    "start_time": "2025-08-30T11:42:19.123Z"
   },
   {
    "duration": 1421,
    "start_time": "2025-08-30T11:44:47.806Z"
   },
   {
    "duration": 0,
    "start_time": "2025-08-30T11:44:49.229Z"
   },
   {
    "duration": 0,
    "start_time": "2025-08-30T11:44:49.231Z"
   },
   {
    "duration": 4,
    "start_time": "2025-08-30T11:44:54.890Z"
   },
   {
    "duration": 4,
    "start_time": "2025-08-30T11:44:56.177Z"
   },
   {
    "duration": 15,
    "start_time": "2025-08-30T11:45:00.535Z"
   },
   {
    "duration": 10,
    "start_time": "2025-08-30T11:45:01.172Z"
   },
   {
    "duration": 6,
    "start_time": "2025-08-30T11:45:01.657Z"
   },
   {
    "duration": 11,
    "start_time": "2025-08-30T11:45:04.396Z"
   },
   {
    "duration": 18,
    "start_time": "2025-08-30T11:45:05.043Z"
   },
   {
    "duration": 9,
    "start_time": "2025-08-30T11:45:07.000Z"
   },
   {
    "duration": 656,
    "start_time": "2025-08-30T11:46:11.551Z"
   },
   {
    "duration": 19,
    "start_time": "2025-08-30T11:52:09.074Z"
   },
   {
    "duration": 18,
    "start_time": "2025-08-30T11:52:26.803Z"
   },
   {
    "duration": 17,
    "start_time": "2025-08-30T11:52:51.845Z"
   },
   {
    "duration": 19,
    "start_time": "2025-08-30T11:53:42.742Z"
   },
   {
    "duration": 103,
    "start_time": "2025-08-30T11:56:05.698Z"
   },
   {
    "duration": 17,
    "start_time": "2025-08-30T11:56:29.338Z"
   },
   {
    "duration": 26,
    "start_time": "2025-08-30T11:57:09.860Z"
   },
   {
    "duration": 19,
    "start_time": "2025-08-30T11:57:16.831Z"
   },
   {
    "duration": 17,
    "start_time": "2025-08-30T11:59:05.702Z"
   },
   {
    "duration": 16,
    "start_time": "2025-08-30T11:59:18.880Z"
   },
   {
    "duration": 15,
    "start_time": "2025-08-30T12:00:10.776Z"
   },
   {
    "duration": 15,
    "start_time": "2025-08-30T12:00:27.932Z"
   },
   {
    "duration": 18,
    "start_time": "2025-08-30T12:00:34.461Z"
   },
   {
    "duration": 15,
    "start_time": "2025-08-30T12:00:37.803Z"
   },
   {
    "duration": 68,
    "start_time": "2025-08-30T12:00:50.753Z"
   },
   {
    "duration": 69,
    "start_time": "2025-08-30T12:00:59.447Z"
   },
   {
    "duration": 70,
    "start_time": "2025-08-30T12:01:26.907Z"
   },
   {
    "duration": 65,
    "start_time": "2025-08-30T12:01:43.058Z"
   },
   {
    "duration": 68,
    "start_time": "2025-08-30T12:01:50.859Z"
   },
   {
    "duration": 69,
    "start_time": "2025-08-30T12:01:58.767Z"
   },
   {
    "duration": 48,
    "start_time": "2025-08-30T12:02:40.239Z"
   },
   {
    "duration": 95,
    "start_time": "2025-08-30T12:03:16.974Z"
   },
   {
    "duration": 49,
    "start_time": "2025-08-30T12:03:43.035Z"
   },
   {
    "duration": 48,
    "start_time": "2025-08-30T12:04:48.343Z"
   },
   {
    "duration": 46,
    "start_time": "2025-08-30T12:05:38.132Z"
   },
   {
    "duration": 50,
    "start_time": "2025-08-30T12:05:52.361Z"
   },
   {
    "duration": 77,
    "start_time": "2025-08-30T12:06:05.736Z"
   },
   {
    "duration": 59,
    "start_time": "2025-08-30T12:13:25.793Z"
   },
   {
    "duration": 40,
    "start_time": "2025-08-30T12:16:11.262Z"
   },
   {
    "duration": 50,
    "start_time": "2025-08-30T12:16:34.809Z"
   },
   {
    "duration": 49,
    "start_time": "2025-08-30T12:16:43.081Z"
   },
   {
    "duration": 13,
    "start_time": "2025-08-30T12:17:05.297Z"
   },
   {
    "duration": 28,
    "start_time": "2025-08-30T12:17:10.929Z"
   },
   {
    "duration": 33,
    "start_time": "2025-08-30T12:20:37.693Z"
   },
   {
    "duration": 17,
    "start_time": "2025-08-30T12:21:00.134Z"
   },
   {
    "duration": 33,
    "start_time": "2025-08-30T12:21:14.516Z"
   },
   {
    "duration": 4,
    "start_time": "2025-08-30T12:23:53.633Z"
   },
   {
    "duration": 5,
    "start_time": "2025-08-30T12:23:56.738Z"
   },
   {
    "duration": 5,
    "start_time": "2025-08-30T12:24:12.014Z"
   },
   {
    "duration": 36,
    "start_time": "2025-08-30T12:24:30.526Z"
   },
   {
    "duration": 37,
    "start_time": "2025-08-30T12:25:21.450Z"
   },
   {
    "duration": 5,
    "start_time": "2025-08-30T12:25:32.170Z"
   },
   {
    "duration": 15,
    "start_time": "2025-08-30T12:26:29.062Z"
   },
   {
    "duration": 18,
    "start_time": "2025-08-30T12:27:31.296Z"
   },
   {
    "duration": 13,
    "start_time": "2025-08-30T12:28:35.441Z"
   },
   {
    "duration": 13,
    "start_time": "2025-08-30T12:29:30.313Z"
   },
   {
    "duration": 12,
    "start_time": "2025-08-30T12:30:01.201Z"
   },
   {
    "duration": 12,
    "start_time": "2025-08-30T12:34:12.683Z"
   },
   {
    "duration": 13,
    "start_time": "2025-08-30T12:34:17.333Z"
   },
   {
    "duration": 13,
    "start_time": "2025-08-30T12:34:19.166Z"
   },
   {
    "duration": 12,
    "start_time": "2025-08-30T12:34:22.269Z"
   },
   {
    "duration": 12,
    "start_time": "2025-08-30T12:34:38.824Z"
   },
   {
    "duration": 12,
    "start_time": "2025-08-30T12:34:51.633Z"
   },
   {
    "duration": 12,
    "start_time": "2025-08-30T12:35:18.546Z"
   },
   {
    "duration": 12,
    "start_time": "2025-08-30T12:35:40.485Z"
   },
   {
    "duration": 20,
    "start_time": "2025-08-30T12:37:17.524Z"
   },
   {
    "duration": 16,
    "start_time": "2025-08-30T12:37:42.512Z"
   },
   {
    "duration": 12,
    "start_time": "2025-08-30T12:43:33.931Z"
   },
   {
    "duration": 12,
    "start_time": "2025-08-30T12:44:34.053Z"
   },
   {
    "duration": 10,
    "start_time": "2025-08-30T12:45:41.578Z"
   },
   {
    "duration": 4,
    "start_time": "2025-08-30T12:45:59.178Z"
   },
   {
    "duration": 9,
    "start_time": "2025-08-30T12:46:07.065Z"
   },
   {
    "duration": 11,
    "start_time": "2025-08-30T12:46:14.575Z"
   },
   {
    "duration": 5,
    "start_time": "2025-08-30T12:46:34.427Z"
   },
   {
    "duration": 12,
    "start_time": "2025-08-30T12:50:46.412Z"
   },
   {
    "duration": 2874,
    "start_time": "2025-08-30T12:51:25.201Z"
   },
   {
    "duration": 1398,
    "start_time": "2025-08-30T12:51:28.078Z"
   },
   {
    "duration": 136,
    "start_time": "2025-08-30T12:51:29.478Z"
   },
   {
    "duration": 18,
    "start_time": "2025-08-30T12:51:29.617Z"
   },
   {
    "duration": 24,
    "start_time": "2025-08-30T12:51:29.637Z"
   },
   {
    "duration": 8,
    "start_time": "2025-08-30T12:51:29.663Z"
   },
   {
    "duration": 11,
    "start_time": "2025-08-30T12:51:29.673Z"
   },
   {
    "duration": 10,
    "start_time": "2025-08-30T12:51:29.685Z"
   },
   {
    "duration": 5,
    "start_time": "2025-08-30T12:51:29.697Z"
   },
   {
    "duration": 5,
    "start_time": "2025-08-30T12:51:29.705Z"
   },
   {
    "duration": 6,
    "start_time": "2025-08-30T12:51:29.712Z"
   },
   {
    "duration": 81,
    "start_time": "2025-08-30T12:51:29.720Z"
   },
   {
    "duration": 11,
    "start_time": "2025-08-30T12:51:29.803Z"
   },
   {
    "duration": 6,
    "start_time": "2025-08-30T12:51:29.816Z"
   },
   {
    "duration": 12,
    "start_time": "2025-08-30T12:51:29.824Z"
   },
   {
    "duration": 15,
    "start_time": "2025-08-30T12:51:29.838Z"
   },
   {
    "duration": 10,
    "start_time": "2025-08-30T12:51:29.859Z"
   },
   {
    "duration": 734,
    "start_time": "2025-08-30T12:51:29.870Z"
   },
   {
    "duration": 693,
    "start_time": "2025-08-30T12:51:30.606Z"
   },
   {
    "duration": 16,
    "start_time": "2025-08-30T12:51:31.301Z"
   },
   {
    "duration": 60,
    "start_time": "2025-08-30T12:51:31.320Z"
   },
   {
    "duration": 53,
    "start_time": "2025-08-30T12:51:31.382Z"
   },
   {
    "duration": 10,
    "start_time": "2025-08-30T12:51:31.437Z"
   },
   {
    "duration": 11,
    "start_time": "2025-08-30T12:51:31.461Z"
   },
   {
    "duration": 15,
    "start_time": "2025-08-30T12:51:31.474Z"
   },
   {
    "duration": 10,
    "start_time": "2025-08-30T12:51:31.491Z"
   },
   {
    "duration": 51,
    "start_time": "2025-08-30T12:51:31.503Z"
   },
   {
    "duration": 8,
    "start_time": "2025-08-30T12:51:31.559Z"
   },
   {
    "duration": 398,
    "start_time": "2025-08-30T12:51:31.569Z"
   },
   {
    "duration": 4,
    "start_time": "2025-08-30T12:51:31.970Z"
   },
   {
    "duration": 18,
    "start_time": "2025-08-30T12:51:31.976Z"
   },
   {
    "duration": 23,
    "start_time": "2025-08-30T12:51:31.996Z"
   },
   {
    "duration": 13,
    "start_time": "2025-08-30T12:51:32.021Z"
   },
   {
    "duration": 24,
    "start_time": "2025-08-30T12:51:32.036Z"
   },
   {
    "duration": 12,
    "start_time": "2025-08-30T12:51:32.063Z"
   },
   {
    "duration": 9,
    "start_time": "2025-08-30T12:51:32.077Z"
   },
   {
    "duration": 16,
    "start_time": "2025-08-30T12:51:32.088Z"
   },
   {
    "duration": 8,
    "start_time": "2025-08-30T12:52:01.222Z"
   },
   {
    "duration": 12,
    "start_time": "2025-08-30T12:54:12.109Z"
   },
   {
    "duration": 9,
    "start_time": "2025-08-30T12:54:13.227Z"
   },
   {
    "duration": 353,
    "start_time": "2025-08-30T12:54:13.782Z"
   },
   {
    "duration": 5,
    "start_time": "2025-08-30T12:54:15.064Z"
   },
   {
    "duration": 4,
    "start_time": "2025-08-30T12:54:15.408Z"
   },
   {
    "duration": 15,
    "start_time": "2025-08-30T12:54:15.923Z"
   },
   {
    "duration": 13,
    "start_time": "2025-08-30T12:55:06.216Z"
   },
   {
    "duration": 113,
    "start_time": "2025-08-30T12:56:16.963Z"
   },
   {
    "duration": 23,
    "start_time": "2025-08-30T12:56:19.858Z"
   },
   {
    "duration": 14,
    "start_time": "2025-08-30T13:00:21.367Z"
   },
   {
    "duration": 28,
    "start_time": "2025-08-30T13:00:31.487Z"
   },
   {
    "duration": 20,
    "start_time": "2025-08-30T13:00:35.437Z"
   },
   {
    "duration": 10,
    "start_time": "2025-08-30T13:01:27.432Z"
   },
   {
    "duration": 26,
    "start_time": "2025-08-30T13:01:46.660Z"
   },
   {
    "duration": 18,
    "start_time": "2025-08-30T13:01:51.528Z"
   },
   {
    "duration": 2841,
    "start_time": "2025-08-30T13:02:18.922Z"
   },
   {
    "duration": 1405,
    "start_time": "2025-08-30T13:02:21.766Z"
   },
   {
    "duration": 156,
    "start_time": "2025-08-30T13:02:23.174Z"
   },
   {
    "duration": 20,
    "start_time": "2025-08-30T13:02:23.332Z"
   },
   {
    "duration": 82,
    "start_time": "2025-08-30T13:02:23.355Z"
   },
   {
    "duration": 7,
    "start_time": "2025-08-30T13:02:23.439Z"
   },
   {
    "duration": 8,
    "start_time": "2025-08-30T13:02:23.448Z"
   },
   {
    "duration": 8,
    "start_time": "2025-08-30T13:02:23.458Z"
   },
   {
    "duration": 24,
    "start_time": "2025-08-30T13:02:23.468Z"
   },
   {
    "duration": 6,
    "start_time": "2025-08-30T13:02:23.494Z"
   },
   {
    "duration": 6,
    "start_time": "2025-08-30T13:02:23.502Z"
   },
   {
    "duration": 25,
    "start_time": "2025-08-30T13:02:23.510Z"
   },
   {
    "duration": 30,
    "start_time": "2025-08-30T13:02:23.538Z"
   },
   {
    "duration": 7,
    "start_time": "2025-08-30T13:02:23.573Z"
   },
   {
    "duration": 14,
    "start_time": "2025-08-30T13:02:23.582Z"
   },
   {
    "duration": 19,
    "start_time": "2025-08-30T13:02:23.599Z"
   },
   {
    "duration": 25,
    "start_time": "2025-08-30T13:02:23.620Z"
   },
   {
    "duration": 697,
    "start_time": "2025-08-30T13:02:23.660Z"
   },
   {
    "duration": 750,
    "start_time": "2025-08-30T13:02:24.359Z"
   },
   {
    "duration": 18,
    "start_time": "2025-08-30T13:02:25.112Z"
   },
   {
    "duration": 30,
    "start_time": "2025-08-30T13:02:25.132Z"
   },
   {
    "duration": 104,
    "start_time": "2025-08-30T13:02:25.164Z"
   },
   {
    "duration": 5,
    "start_time": "2025-08-30T13:02:25.271Z"
   },
   {
    "duration": 11,
    "start_time": "2025-08-30T13:02:25.279Z"
   },
   {
    "duration": 11,
    "start_time": "2025-08-30T13:02:25.293Z"
   },
   {
    "duration": 5,
    "start_time": "2025-08-30T13:02:25.307Z"
   },
   {
    "duration": 9,
    "start_time": "2025-08-30T13:02:25.361Z"
   },
   {
    "duration": 61,
    "start_time": "2025-08-30T13:02:25.372Z"
   },
   {
    "duration": 31,
    "start_time": "2025-08-30T13:02:25.435Z"
   },
   {
    "duration": 409,
    "start_time": "2025-08-30T13:02:25.468Z"
   },
   {
    "duration": 5,
    "start_time": "2025-08-30T13:02:25.879Z"
   },
   {
    "duration": 11,
    "start_time": "2025-08-30T13:02:25.886Z"
   },
   {
    "duration": 17,
    "start_time": "2025-08-30T13:02:25.899Z"
   },
   {
    "duration": 47,
    "start_time": "2025-08-30T13:02:25.919Z"
   },
   {
    "duration": 14,
    "start_time": "2025-08-30T13:02:25.969Z"
   },
   {
    "duration": 11,
    "start_time": "2025-08-30T13:02:25.985Z"
   },
   {
    "duration": 22,
    "start_time": "2025-08-30T13:02:25.998Z"
   },
   {
    "duration": 28,
    "start_time": "2025-08-30T13:02:26.023Z"
   },
   {
    "duration": 4,
    "start_time": "2025-08-30T13:04:41.179Z"
   },
   {
    "duration": 1315,
    "start_time": "2025-08-30T13:04:51.496Z"
   },
   {
    "duration": 15,
    "start_time": "2025-08-30T13:05:26.564Z"
   },
   {
    "duration": 47,
    "start_time": "2025-08-30T13:06:01.667Z"
   },
   {
    "duration": 67,
    "start_time": "2025-08-30T13:08:25.131Z"
   },
   {
    "duration": 63,
    "start_time": "2025-08-30T13:08:56.853Z"
   },
   {
    "duration": 19,
    "start_time": "2025-08-30T13:10:41.345Z"
   },
   {
    "duration": 17,
    "start_time": "2025-08-30T13:10:50.125Z"
   },
   {
    "duration": 17,
    "start_time": "2025-08-30T13:11:38.001Z"
   },
   {
    "duration": 15,
    "start_time": "2025-08-30T13:12:49.767Z"
   },
   {
    "duration": 26,
    "start_time": "2025-08-30T13:12:55.823Z"
   },
   {
    "duration": 14,
    "start_time": "2025-08-30T13:13:06.409Z"
   },
   {
    "duration": 17,
    "start_time": "2025-08-30T13:13:07.302Z"
   },
   {
    "duration": 17,
    "start_time": "2025-08-30T13:13:12.072Z"
   },
   {
    "duration": 17,
    "start_time": "2025-08-30T13:13:12.505Z"
   },
   {
    "duration": 17,
    "start_time": "2025-08-30T13:14:07.295Z"
   },
   {
    "duration": 57,
    "start_time": "2025-08-30T13:14:53.383Z"
   },
   {
    "duration": 59,
    "start_time": "2025-08-30T13:18:51.092Z"
   },
   {
    "duration": 8,
    "start_time": "2025-08-30T13:18:59.191Z"
   },
   {
    "duration": 3109,
    "start_time": "2025-08-30T13:19:06.121Z"
   },
   {
    "duration": 1436,
    "start_time": "2025-08-30T13:19:09.235Z"
   },
   {
    "duration": 132,
    "start_time": "2025-08-30T13:19:10.673Z"
   },
   {
    "duration": 21,
    "start_time": "2025-08-30T13:19:10.807Z"
   },
   {
    "duration": 31,
    "start_time": "2025-08-30T13:19:10.831Z"
   },
   {
    "duration": 7,
    "start_time": "2025-08-30T13:19:10.864Z"
   },
   {
    "duration": 9,
    "start_time": "2025-08-30T13:19:10.873Z"
   },
   {
    "duration": 6,
    "start_time": "2025-08-30T13:19:10.884Z"
   },
   {
    "duration": 14,
    "start_time": "2025-08-30T13:19:10.892Z"
   },
   {
    "duration": 16,
    "start_time": "2025-08-30T13:19:10.908Z"
   },
   {
    "duration": 35,
    "start_time": "2025-08-30T13:19:10.926Z"
   },
   {
    "duration": 18,
    "start_time": "2025-08-30T13:19:10.963Z"
   },
   {
    "duration": 13,
    "start_time": "2025-08-30T13:19:10.983Z"
   },
   {
    "duration": 7,
    "start_time": "2025-08-30T13:19:11.000Z"
   },
   {
    "duration": 11,
    "start_time": "2025-08-30T13:19:11.009Z"
   },
   {
    "duration": 12,
    "start_time": "2025-08-30T13:19:11.060Z"
   },
   {
    "duration": 48,
    "start_time": "2025-08-30T13:19:11.073Z"
   },
   {
    "duration": 684,
    "start_time": "2025-08-30T13:19:11.123Z"
   },
   {
    "duration": 697,
    "start_time": "2025-08-30T13:19:11.809Z"
   },
   {
    "duration": 19,
    "start_time": "2025-08-30T13:19:12.508Z"
   },
   {
    "duration": 43,
    "start_time": "2025-08-30T13:19:12.528Z"
   },
   {
    "duration": 56,
    "start_time": "2025-08-30T13:19:12.573Z"
   },
   {
    "duration": 7,
    "start_time": "2025-08-30T13:19:12.632Z"
   },
   {
    "duration": 12,
    "start_time": "2025-08-30T13:19:12.662Z"
   },
   {
    "duration": 9,
    "start_time": "2025-08-30T13:19:12.677Z"
   },
   {
    "duration": 6,
    "start_time": "2025-08-30T13:19:12.690Z"
   },
   {
    "duration": 10,
    "start_time": "2025-08-30T13:19:12.698Z"
   },
   {
    "duration": 58,
    "start_time": "2025-08-30T13:19:12.710Z"
   },
   {
    "duration": 7,
    "start_time": "2025-08-30T13:19:12.771Z"
   },
   {
    "duration": 432,
    "start_time": "2025-08-30T13:19:12.780Z"
   },
   {
    "duration": 4,
    "start_time": "2025-08-30T13:19:13.215Z"
   },
   {
    "duration": 5,
    "start_time": "2025-08-30T13:19:13.221Z"
   },
   {
    "duration": 34,
    "start_time": "2025-08-30T13:19:13.228Z"
   },
   {
    "duration": 9,
    "start_time": "2025-08-30T13:19:13.264Z"
   },
   {
    "duration": 12,
    "start_time": "2025-08-30T13:19:13.275Z"
   },
   {
    "duration": 14,
    "start_time": "2025-08-30T13:19:13.289Z"
   },
   {
    "duration": 58,
    "start_time": "2025-08-30T13:19:13.306Z"
   },
   {
    "duration": 139,
    "start_time": "2025-08-30T13:19:13.367Z"
   },
   {
    "duration": 0,
    "start_time": "2025-08-30T13:19:13.508Z"
   },
   {
    "duration": 0,
    "start_time": "2025-08-30T13:19:13.510Z"
   },
   {
    "duration": 0,
    "start_time": "2025-08-30T13:19:13.513Z"
   },
   {
    "duration": 68,
    "start_time": "2025-08-30T13:19:36.323Z"
   },
   {
    "duration": 3100,
    "start_time": "2025-08-30T13:19:44.262Z"
   },
   {
    "duration": 1343,
    "start_time": "2025-08-30T13:19:47.365Z"
   },
   {
    "duration": 96,
    "start_time": "2025-08-30T13:19:48.711Z"
   },
   {
    "duration": 21,
    "start_time": "2025-08-30T13:19:48.810Z"
   },
   {
    "duration": 42,
    "start_time": "2025-08-30T13:19:48.833Z"
   },
   {
    "duration": 12,
    "start_time": "2025-08-30T13:19:48.878Z"
   },
   {
    "duration": 7,
    "start_time": "2025-08-30T13:19:48.892Z"
   },
   {
    "duration": 8,
    "start_time": "2025-08-30T13:19:48.902Z"
   },
   {
    "duration": 8,
    "start_time": "2025-08-30T13:19:48.912Z"
   },
   {
    "duration": 8,
    "start_time": "2025-08-30T13:19:48.959Z"
   },
   {
    "duration": 14,
    "start_time": "2025-08-30T13:19:48.970Z"
   },
   {
    "duration": 30,
    "start_time": "2025-08-30T13:19:48.987Z"
   },
   {
    "duration": 15,
    "start_time": "2025-08-30T13:19:49.020Z"
   },
   {
    "duration": 27,
    "start_time": "2025-08-30T13:19:49.037Z"
   },
   {
    "duration": 52,
    "start_time": "2025-08-30T13:19:49.068Z"
   },
   {
    "duration": 16,
    "start_time": "2025-08-30T13:19:49.123Z"
   },
   {
    "duration": 9,
    "start_time": "2025-08-30T13:19:49.141Z"
   },
   {
    "duration": 678,
    "start_time": "2025-08-30T13:19:49.152Z"
   },
   {
    "duration": 681,
    "start_time": "2025-08-30T13:19:49.832Z"
   },
   {
    "duration": 18,
    "start_time": "2025-08-30T13:19:50.516Z"
   },
   {
    "duration": 40,
    "start_time": "2025-08-30T13:19:50.535Z"
   },
   {
    "duration": 84,
    "start_time": "2025-08-30T13:19:50.577Z"
   },
   {
    "duration": 9,
    "start_time": "2025-08-30T13:19:50.664Z"
   },
   {
    "duration": 9,
    "start_time": "2025-08-30T13:19:50.675Z"
   },
   {
    "duration": 15,
    "start_time": "2025-08-30T13:19:50.686Z"
   },
   {
    "duration": 12,
    "start_time": "2025-08-30T13:19:50.704Z"
   },
   {
    "duration": 31,
    "start_time": "2025-08-30T13:19:50.719Z"
   },
   {
    "duration": 23,
    "start_time": "2025-08-30T13:19:50.765Z"
   },
   {
    "duration": 71,
    "start_time": "2025-08-30T13:19:50.790Z"
   },
   {
    "duration": 407,
    "start_time": "2025-08-30T13:19:50.865Z"
   },
   {
    "duration": 3,
    "start_time": "2025-08-30T13:19:51.274Z"
   },
   {
    "duration": 23,
    "start_time": "2025-08-30T13:19:51.279Z"
   },
   {
    "duration": 25,
    "start_time": "2025-08-30T13:19:51.304Z"
   },
   {
    "duration": 18,
    "start_time": "2025-08-30T13:19:51.331Z"
   },
   {
    "duration": 8,
    "start_time": "2025-08-30T13:19:51.350Z"
   },
   {
    "duration": 8,
    "start_time": "2025-08-30T13:19:51.360Z"
   },
   {
    "duration": 66,
    "start_time": "2025-08-30T13:19:51.370Z"
   },
   {
    "duration": 148,
    "start_time": "2025-08-30T13:19:51.438Z"
   },
   {
    "duration": 0,
    "start_time": "2025-08-30T13:19:51.589Z"
   },
   {
    "duration": 0,
    "start_time": "2025-08-30T13:19:51.590Z"
   },
   {
    "duration": 0,
    "start_time": "2025-08-30T13:19:51.592Z"
   },
   {
    "duration": 0,
    "start_time": "2025-08-30T13:19:51.593Z"
   },
   {
    "duration": 17,
    "start_time": "2025-08-30T13:20:06.725Z"
   },
   {
    "duration": 16,
    "start_time": "2025-08-30T13:20:08.863Z"
   },
   {
    "duration": 57,
    "start_time": "2025-08-30T13:20:10.848Z"
   },
   {
    "duration": 6,
    "start_time": "2025-08-30T13:20:14.307Z"
   },
   {
    "duration": 51,
    "start_time": "2025-08-30T13:20:16.235Z"
   },
   {
    "duration": 8,
    "start_time": "2025-08-30T13:21:37.132Z"
   },
   {
    "duration": 48,
    "start_time": "2025-08-30T13:21:37.908Z"
   },
   {
    "duration": 23,
    "start_time": "2025-08-30T13:22:10.515Z"
   },
   {
    "duration": 50,
    "start_time": "2025-08-30T13:22:20.792Z"
   },
   {
    "duration": 57,
    "start_time": "2025-08-30T13:23:23.875Z"
   },
   {
    "duration": 2827,
    "start_time": "2025-08-30T13:23:23.963Z"
   },
   {
    "duration": 1361,
    "start_time": "2025-08-30T13:23:26.793Z"
   },
   {
    "duration": 108,
    "start_time": "2025-08-30T13:23:28.156Z"
   },
   {
    "duration": 20,
    "start_time": "2025-08-30T13:23:28.266Z"
   },
   {
    "duration": 22,
    "start_time": "2025-08-30T13:23:28.289Z"
   },
   {
    "duration": 5,
    "start_time": "2025-08-30T13:23:28.313Z"
   },
   {
    "duration": 11,
    "start_time": "2025-08-30T13:23:28.319Z"
   },
   {
    "duration": 30,
    "start_time": "2025-08-30T13:23:28.332Z"
   },
   {
    "duration": 7,
    "start_time": "2025-08-30T13:23:28.363Z"
   },
   {
    "duration": 15,
    "start_time": "2025-08-30T13:23:28.372Z"
   },
   {
    "duration": 5,
    "start_time": "2025-08-30T13:23:28.389Z"
   },
   {
    "duration": 20,
    "start_time": "2025-08-30T13:23:28.396Z"
   },
   {
    "duration": 44,
    "start_time": "2025-08-30T13:23:28.418Z"
   },
   {
    "duration": 7,
    "start_time": "2025-08-30T13:23:28.466Z"
   },
   {
    "duration": 11,
    "start_time": "2025-08-30T13:23:28.475Z"
   },
   {
    "duration": 13,
    "start_time": "2025-08-30T13:23:28.488Z"
   },
   {
    "duration": 11,
    "start_time": "2025-08-30T13:23:28.503Z"
   },
   {
    "duration": 684,
    "start_time": "2025-08-30T13:23:28.516Z"
   },
   {
    "duration": 708,
    "start_time": "2025-08-30T13:23:29.202Z"
   },
   {
    "duration": 15,
    "start_time": "2025-08-30T13:23:29.912Z"
   },
   {
    "duration": 37,
    "start_time": "2025-08-30T13:23:29.929Z"
   },
   {
    "duration": 58,
    "start_time": "2025-08-30T13:23:29.968Z"
   },
   {
    "duration": 9,
    "start_time": "2025-08-30T13:23:30.029Z"
   },
   {
    "duration": 37,
    "start_time": "2025-08-30T13:23:30.060Z"
   },
   {
    "duration": 24,
    "start_time": "2025-08-30T13:23:30.099Z"
   },
   {
    "duration": 34,
    "start_time": "2025-08-30T13:23:30.125Z"
   },
   {
    "duration": 27,
    "start_time": "2025-08-30T13:23:30.161Z"
   },
   {
    "duration": 53,
    "start_time": "2025-08-30T13:23:30.190Z"
   },
   {
    "duration": 46,
    "start_time": "2025-08-30T13:23:30.246Z"
   },
   {
    "duration": 432,
    "start_time": "2025-08-30T13:23:30.294Z"
   },
   {
    "duration": 5,
    "start_time": "2025-08-30T13:23:30.728Z"
   },
   {
    "duration": 22,
    "start_time": "2025-08-30T13:23:30.735Z"
   },
   {
    "duration": 17,
    "start_time": "2025-08-30T13:23:30.760Z"
   },
   {
    "duration": 74,
    "start_time": "2025-08-30T13:23:30.780Z"
   },
   {
    "duration": 13,
    "start_time": "2025-08-30T13:23:30.856Z"
   },
   {
    "duration": 13,
    "start_time": "2025-08-30T13:23:30.871Z"
   },
   {
    "duration": 33,
    "start_time": "2025-08-30T13:23:30.886Z"
   },
   {
    "duration": 32,
    "start_time": "2025-08-30T13:23:30.921Z"
   },
   {
    "duration": 24,
    "start_time": "2025-08-30T13:23:30.955Z"
   },
   {
    "duration": 59,
    "start_time": "2025-08-30T13:23:30.983Z"
   },
   {
    "duration": 14,
    "start_time": "2025-08-30T13:23:31.060Z"
   },
   {
    "duration": 105,
    "start_time": "2025-08-30T13:23:31.076Z"
   },
   {
    "duration": 23,
    "start_time": "2025-08-30T13:24:17.114Z"
   },
   {
    "duration": 5,
    "start_time": "2025-08-30T13:26:34.334Z"
   },
   {
    "duration": 4,
    "start_time": "2025-08-30T13:26:40.125Z"
   },
   {
    "duration": 4,
    "start_time": "2025-08-30T13:26:48.504Z"
   },
   {
    "duration": 5,
    "start_time": "2025-08-30T13:26:56.847Z"
   },
   {
    "duration": 5,
    "start_time": "2025-08-30T13:27:11.476Z"
   },
   {
    "duration": 4,
    "start_time": "2025-08-30T13:30:49.908Z"
   },
   {
    "duration": 7,
    "start_time": "2025-08-30T13:46:53.888Z"
   },
   {
    "duration": 6,
    "start_time": "2025-08-30T13:50:00.463Z"
   },
   {
    "duration": 5,
    "start_time": "2025-08-30T13:50:13.971Z"
   },
   {
    "duration": 5,
    "start_time": "2025-08-30T13:52:00.811Z"
   },
   {
    "duration": 8,
    "start_time": "2025-08-30T13:52:58.977Z"
   },
   {
    "duration": 6,
    "start_time": "2025-08-30T13:53:02.851Z"
   },
   {
    "duration": 117,
    "start_time": "2025-08-30T14:06:32.452Z"
   },
   {
    "duration": 10,
    "start_time": "2025-08-30T14:06:38.065Z"
   },
   {
    "duration": 8,
    "start_time": "2025-08-30T14:06:59.219Z"
   },
   {
    "duration": 11,
    "start_time": "2025-08-30T14:07:45.635Z"
   },
   {
    "duration": 9,
    "start_time": "2025-08-30T14:08:38.972Z"
   },
   {
    "duration": 5,
    "start_time": "2025-08-30T14:08:39.845Z"
   },
   {
    "duration": 8,
    "start_time": "2025-08-30T14:08:41.355Z"
   },
   {
    "duration": 11,
    "start_time": "2025-08-30T14:11:00.627Z"
   },
   {
    "duration": 8,
    "start_time": "2025-08-30T14:11:15.087Z"
   },
   {
    "duration": 8,
    "start_time": "2025-08-30T14:11:52.317Z"
   },
   {
    "duration": 7,
    "start_time": "2025-08-30T14:13:01.253Z"
   },
   {
    "duration": 8,
    "start_time": "2025-08-30T14:13:51.217Z"
   },
   {
    "duration": 10,
    "start_time": "2025-08-30T14:14:13.588Z"
   },
   {
    "duration": 19,
    "start_time": "2025-08-30T14:14:27.147Z"
   },
   {
    "duration": 22,
    "start_time": "2025-08-30T14:15:00.297Z"
   },
   {
    "duration": 13,
    "start_time": "2025-08-30T14:15:13.938Z"
   },
   {
    "duration": 12,
    "start_time": "2025-08-30T14:15:18.868Z"
   },
   {
    "duration": 22,
    "start_time": "2025-08-30T14:15:24.863Z"
   },
   {
    "duration": 19,
    "start_time": "2025-08-30T14:15:33.604Z"
   },
   {
    "duration": 12,
    "start_time": "2025-08-30T14:15:37.737Z"
   },
   {
    "duration": 13,
    "start_time": "2025-08-30T14:15:40.733Z"
   },
   {
    "duration": 12,
    "start_time": "2025-08-30T14:15:43.908Z"
   },
   {
    "duration": 21,
    "start_time": "2025-08-30T14:15:46.876Z"
   },
   {
    "duration": 22,
    "start_time": "2025-08-30T14:15:58.416Z"
   },
   {
    "duration": 23,
    "start_time": "2025-08-30T14:16:01.696Z"
   },
   {
    "duration": 8,
    "start_time": "2025-08-30T14:16:13.912Z"
   },
   {
    "duration": 8,
    "start_time": "2025-08-30T14:16:14.406Z"
   },
   {
    "duration": 22,
    "start_time": "2025-08-30T14:16:16.981Z"
   },
   {
    "duration": 22,
    "start_time": "2025-08-30T14:16:26.539Z"
   },
   {
    "duration": 21,
    "start_time": "2025-08-30T14:16:30.203Z"
   },
   {
    "duration": 11,
    "start_time": "2025-08-30T14:16:33.957Z"
   },
   {
    "duration": 11,
    "start_time": "2025-08-30T14:16:37.544Z"
   },
   {
    "duration": 51,
    "start_time": "2025-08-30T14:21:18.131Z"
   },
   {
    "duration": 5,
    "start_time": "2025-08-30T14:21:20.655Z"
   },
   {
    "duration": 11,
    "start_time": "2025-08-30T14:21:20.982Z"
   },
   {
    "duration": 10,
    "start_time": "2025-08-30T14:21:21.379Z"
   },
   {
    "duration": 5,
    "start_time": "2025-08-30T14:21:21.779Z"
   },
   {
    "duration": 8,
    "start_time": "2025-08-30T14:21:37.787Z"
   },
   {
    "duration": 19,
    "start_time": "2025-08-30T14:22:51.005Z"
   },
   {
    "duration": 17,
    "start_time": "2025-08-30T14:23:08.442Z"
   },
   {
    "duration": 23,
    "start_time": "2025-08-30T14:23:12.226Z"
   },
   {
    "duration": 18,
    "start_time": "2025-08-30T14:24:07.231Z"
   },
   {
    "duration": 15,
    "start_time": "2025-08-30T14:24:41.283Z"
   },
   {
    "duration": 16,
    "start_time": "2025-08-30T14:24:46.435Z"
   },
   {
    "duration": 72,
    "start_time": "2025-08-30T14:24:57.717Z"
   },
   {
    "duration": 17,
    "start_time": "2025-08-30T14:25:05.170Z"
   },
   {
    "duration": 20,
    "start_time": "2025-08-30T14:26:22.015Z"
   },
   {
    "duration": 19,
    "start_time": "2025-08-30T14:26:30.949Z"
   },
   {
    "duration": 17,
    "start_time": "2025-08-30T14:26:40.290Z"
   },
   {
    "duration": 16,
    "start_time": "2025-08-30T14:26:50.283Z"
   },
   {
    "duration": 15,
    "start_time": "2025-08-30T14:27:01.964Z"
   },
   {
    "duration": 13,
    "start_time": "2025-08-30T14:29:23.220Z"
   },
   {
    "duration": 22,
    "start_time": "2025-08-30T14:29:28.514Z"
   },
   {
    "duration": 18,
    "start_time": "2025-08-30T14:30:16.235Z"
   },
   {
    "duration": 18,
    "start_time": "2025-08-30T14:30:22.122Z"
   },
   {
    "duration": 20,
    "start_time": "2025-08-30T14:30:28.532Z"
   },
   {
    "duration": 19,
    "start_time": "2025-08-30T14:30:43.096Z"
   },
   {
    "duration": 20,
    "start_time": "2025-08-30T14:30:52.373Z"
   },
   {
    "duration": 5,
    "start_time": "2025-08-30T14:31:50.559Z"
   },
   {
    "duration": 18,
    "start_time": "2025-08-30T14:32:17.860Z"
   },
   {
    "duration": 18,
    "start_time": "2025-08-30T14:32:29.734Z"
   },
   {
    "duration": 5,
    "start_time": "2025-08-30T14:34:27.685Z"
   },
   {
    "duration": 6,
    "start_time": "2025-08-30T14:35:19.463Z"
   },
   {
    "duration": 4,
    "start_time": "2025-08-30T14:35:28.547Z"
   },
   {
    "duration": 19,
    "start_time": "2025-08-30T14:35:34.627Z"
   },
   {
    "duration": 5,
    "start_time": "2025-08-30T14:35:57.403Z"
   },
   {
    "duration": 1439,
    "start_time": "2025-08-30T14:35:59.474Z"
   },
   {
    "duration": 1616,
    "start_time": "2025-08-30T14:36:04.358Z"
   },
   {
    "duration": 83,
    "start_time": "2025-08-30T14:37:09.593Z"
   },
   {
    "duration": 4,
    "start_time": "2025-08-30T14:37:17.145Z"
   },
   {
    "duration": 1564,
    "start_time": "2025-08-30T14:37:20.859Z"
   },
   {
    "duration": 5,
    "start_time": "2025-08-30T14:40:28.888Z"
   },
   {
    "duration": 1484,
    "start_time": "2025-08-30T14:40:30.078Z"
   },
   {
    "duration": 5,
    "start_time": "2025-08-30T14:40:36.294Z"
   },
   {
    "duration": 20,
    "start_time": "2025-08-30T14:40:39.578Z"
   },
   {
    "duration": 6,
    "start_time": "2025-08-30T14:40:55.478Z"
   },
   {
    "duration": 21,
    "start_time": "2025-08-30T14:40:56.212Z"
   },
   {
    "duration": 4,
    "start_time": "2025-08-30T14:41:05.607Z"
   },
   {
    "duration": 21,
    "start_time": "2025-08-30T14:41:06.804Z"
   },
   {
    "duration": 6,
    "start_time": "2025-08-30T14:41:51.903Z"
   },
   {
    "duration": 4,
    "start_time": "2025-08-30T14:42:07.033Z"
   },
   {
    "duration": 4,
    "start_time": "2025-08-30T14:42:37.033Z"
   },
   {
    "duration": 29,
    "start_time": "2025-08-30T14:42:38.452Z"
   },
   {
    "duration": 3,
    "start_time": "2025-08-30T14:44:09.441Z"
   },
   {
    "duration": 23,
    "start_time": "2025-08-30T14:44:10.948Z"
   },
   {
    "duration": 81,
    "start_time": "2025-08-30T14:44:37.721Z"
   },
   {
    "duration": 17,
    "start_time": "2025-08-30T14:44:38.196Z"
   },
   {
    "duration": 94,
    "start_time": "2025-08-30T14:45:29.555Z"
   },
   {
    "duration": 84,
    "start_time": "2025-08-30T14:45:37.871Z"
   },
   {
    "duration": 86,
    "start_time": "2025-08-30T14:45:51.774Z"
   },
   {
    "duration": 4,
    "start_time": "2025-08-30T14:45:59.367Z"
   },
   {
    "duration": 17,
    "start_time": "2025-08-30T14:46:04.013Z"
   },
   {
    "duration": 4,
    "start_time": "2025-08-30T14:46:12.182Z"
   },
   {
    "duration": 18,
    "start_time": "2025-08-30T14:46:13.021Z"
   },
   {
    "duration": 7,
    "start_time": "2025-08-30T14:47:15.818Z"
   },
   {
    "duration": 17,
    "start_time": "2025-08-30T14:47:16.772Z"
   },
   {
    "duration": 6,
    "start_time": "2025-08-30T14:47:44.462Z"
   },
   {
    "duration": 20,
    "start_time": "2025-08-30T14:47:44.870Z"
   },
   {
    "duration": 5,
    "start_time": "2025-08-30T14:48:14.978Z"
   },
   {
    "duration": 24,
    "start_time": "2025-08-30T14:48:15.790Z"
   },
   {
    "duration": 21,
    "start_time": "2025-08-30T14:48:18.758Z"
   },
   {
    "duration": 18,
    "start_time": "2025-08-30T14:49:57.479Z"
   },
   {
    "duration": 4,
    "start_time": "2025-08-30T14:54:49.441Z"
   },
   {
    "duration": 5,
    "start_time": "2025-08-30T14:55:27.640Z"
   },
   {
    "duration": 5,
    "start_time": "2025-08-30T14:55:45.629Z"
   },
   {
    "duration": 5,
    "start_time": "2025-08-30T14:56:27.512Z"
   },
   {
    "duration": 5,
    "start_time": "2025-08-30T14:56:52.953Z"
   },
   {
    "duration": 6,
    "start_time": "2025-08-30T14:57:35.262Z"
   },
   {
    "duration": 5,
    "start_time": "2025-08-30T14:58:10.840Z"
   },
   {
    "duration": 7,
    "start_time": "2025-08-30T15:02:15.785Z"
   },
   {
    "duration": 5,
    "start_time": "2025-08-30T15:02:35.029Z"
   },
   {
    "duration": 5,
    "start_time": "2025-08-30T15:02:56.724Z"
   },
   {
    "duration": 4,
    "start_time": "2025-08-30T15:03:23.988Z"
   },
   {
    "duration": 5,
    "start_time": "2025-08-30T15:08:15.160Z"
   },
   {
    "duration": 30,
    "start_time": "2025-08-30T15:08:15.762Z"
   },
   {
    "duration": 22,
    "start_time": "2025-08-30T15:08:17.344Z"
   },
   {
    "duration": 16,
    "start_time": "2025-08-30T15:11:44.122Z"
   },
   {
    "duration": 13,
    "start_time": "2025-08-30T15:12:30.395Z"
   },
   {
    "duration": 21,
    "start_time": "2025-08-30T15:12:36.378Z"
   },
   {
    "duration": 20,
    "start_time": "2025-08-30T15:12:59.952Z"
   },
   {
    "duration": 18,
    "start_time": "2025-08-30T15:13:43.819Z"
   },
   {
    "duration": 17,
    "start_time": "2025-08-30T15:13:55.426Z"
   },
   {
    "duration": 3333,
    "start_time": "2025-08-30T16:22:02.683Z"
   },
   {
    "duration": 1286,
    "start_time": "2025-08-30T16:22:06.018Z"
   },
   {
    "duration": 143,
    "start_time": "2025-08-30T16:22:07.306Z"
   },
   {
    "duration": 16,
    "start_time": "2025-08-30T16:22:07.451Z"
   },
   {
    "duration": 17,
    "start_time": "2025-08-30T16:22:07.469Z"
   },
   {
    "duration": 15,
    "start_time": "2025-08-30T16:22:07.487Z"
   },
   {
    "duration": 5,
    "start_time": "2025-08-30T16:22:07.503Z"
   },
   {
    "duration": 9,
    "start_time": "2025-08-30T16:22:07.509Z"
   },
   {
    "duration": 9,
    "start_time": "2025-08-30T16:22:07.520Z"
   },
   {
    "duration": 7,
    "start_time": "2025-08-30T16:22:07.531Z"
   },
   {
    "duration": 15,
    "start_time": "2025-08-30T16:22:07.540Z"
   },
   {
    "duration": 15,
    "start_time": "2025-08-30T16:22:07.557Z"
   },
   {
    "duration": 18,
    "start_time": "2025-08-30T16:22:07.573Z"
   },
   {
    "duration": 9,
    "start_time": "2025-08-30T16:22:07.593Z"
   },
   {
    "duration": 32,
    "start_time": "2025-08-30T16:22:07.604Z"
   },
   {
    "duration": 10,
    "start_time": "2025-08-30T16:22:07.638Z"
   },
   {
    "duration": 12,
    "start_time": "2025-08-30T16:22:07.649Z"
   },
   {
    "duration": 639,
    "start_time": "2025-08-30T16:22:07.663Z"
   },
   {
    "duration": 587,
    "start_time": "2025-08-30T16:22:08.303Z"
   },
   {
    "duration": 14,
    "start_time": "2025-08-30T16:22:08.891Z"
   },
   {
    "duration": 14,
    "start_time": "2025-08-30T16:22:08.907Z"
   },
   {
    "duration": 43,
    "start_time": "2025-08-30T16:22:08.923Z"
   },
   {
    "duration": 4,
    "start_time": "2025-08-30T16:22:08.988Z"
   },
   {
    "duration": 8,
    "start_time": "2025-08-30T16:22:08.994Z"
   },
   {
    "duration": 6,
    "start_time": "2025-08-30T16:22:09.003Z"
   },
   {
    "duration": 3,
    "start_time": "2025-08-30T16:22:09.010Z"
   },
   {
    "duration": 19,
    "start_time": "2025-08-30T16:22:09.017Z"
   },
   {
    "duration": 12,
    "start_time": "2025-08-30T16:22:09.038Z"
   },
   {
    "duration": 5,
    "start_time": "2025-08-30T16:22:09.051Z"
   },
   {
    "duration": 336,
    "start_time": "2025-08-30T16:22:09.058Z"
   },
   {
    "duration": 3,
    "start_time": "2025-08-30T16:22:09.396Z"
   },
   {
    "duration": 9,
    "start_time": "2025-08-30T16:22:09.400Z"
   },
   {
    "duration": 28,
    "start_time": "2025-08-30T16:22:09.410Z"
   },
   {
    "duration": 12,
    "start_time": "2025-08-30T16:22:09.439Z"
   },
   {
    "duration": 7,
    "start_time": "2025-08-30T16:22:09.453Z"
   },
   {
    "duration": 7,
    "start_time": "2025-08-30T16:22:09.461Z"
   },
   {
    "duration": 22,
    "start_time": "2025-08-30T16:22:09.469Z"
   },
   {
    "duration": 18,
    "start_time": "2025-08-30T16:22:09.493Z"
   },
   {
    "duration": 15,
    "start_time": "2025-08-30T16:22:09.513Z"
   },
   {
    "duration": 58,
    "start_time": "2025-08-30T16:22:09.530Z"
   },
   {
    "duration": 11,
    "start_time": "2025-08-30T16:22:09.590Z"
   },
   {
    "duration": 16,
    "start_time": "2025-08-30T16:22:09.602Z"
   },
   {
    "duration": 11,
    "start_time": "2025-08-30T16:22:09.620Z"
   },
   {
    "duration": 4,
    "start_time": "2025-08-30T16:22:09.632Z"
   },
   {
    "duration": 5,
    "start_time": "2025-08-30T16:22:09.638Z"
   },
   {
    "duration": 7,
    "start_time": "2025-08-30T16:22:09.644Z"
   },
   {
    "duration": 4,
    "start_time": "2025-08-30T16:22:09.652Z"
   },
   {
    "duration": 5,
    "start_time": "2025-08-30T16:22:09.658Z"
   },
   {
    "duration": 26,
    "start_time": "2025-08-30T16:22:09.665Z"
   },
   {
    "duration": 4,
    "start_time": "2025-08-30T16:22:09.693Z"
   },
   {
    "duration": 11,
    "start_time": "2025-08-30T16:22:09.699Z"
   },
   {
    "duration": 19,
    "start_time": "2025-08-30T16:22:09.712Z"
   },
   {
    "duration": 15,
    "start_time": "2025-08-30T16:22:09.733Z"
   },
   {
    "duration": 16,
    "start_time": "2025-08-30T16:22:09.750Z"
   },
   {
    "duration": 2982,
    "start_time": "2025-08-30T16:56:28.995Z"
   },
   {
    "duration": 3340,
    "start_time": "2025-08-30T16:59:04.268Z"
   },
   {
    "duration": 1368,
    "start_time": "2025-08-30T16:59:07.612Z"
   },
   {
    "duration": 140,
    "start_time": "2025-08-30T16:59:08.989Z"
   },
   {
    "duration": 26,
    "start_time": "2025-08-30T16:59:09.132Z"
   },
   {
    "duration": 24,
    "start_time": "2025-08-30T16:59:09.161Z"
   },
   {
    "duration": 12,
    "start_time": "2025-08-30T16:59:09.188Z"
   },
   {
    "duration": 6,
    "start_time": "2025-08-30T16:59:09.202Z"
   },
   {
    "duration": 13,
    "start_time": "2025-08-30T16:59:09.210Z"
   },
   {
    "duration": 8,
    "start_time": "2025-08-30T16:59:09.226Z"
   },
   {
    "duration": 5,
    "start_time": "2025-08-30T16:59:09.263Z"
   },
   {
    "duration": 7,
    "start_time": "2025-08-30T16:59:09.270Z"
   },
   {
    "duration": 18,
    "start_time": "2025-08-30T16:59:09.280Z"
   },
   {
    "duration": 13,
    "start_time": "2025-08-30T16:59:09.301Z"
   },
   {
    "duration": 61,
    "start_time": "2025-08-30T16:59:09.316Z"
   },
   {
    "duration": 15,
    "start_time": "2025-08-30T16:59:09.379Z"
   },
   {
    "duration": 15,
    "start_time": "2025-08-30T16:59:09.396Z"
   },
   {
    "duration": 8,
    "start_time": "2025-08-30T16:59:09.413Z"
   },
   {
    "duration": 694,
    "start_time": "2025-08-30T16:59:09.423Z"
   },
   {
    "duration": 709,
    "start_time": "2025-08-30T16:59:10.119Z"
   },
   {
    "duration": 30,
    "start_time": "2025-08-30T16:59:10.830Z"
   },
   {
    "duration": 24,
    "start_time": "2025-08-30T16:59:10.863Z"
   },
   {
    "duration": 74,
    "start_time": "2025-08-30T16:59:10.890Z"
   },
   {
    "duration": 6,
    "start_time": "2025-08-30T16:59:10.967Z"
   },
   {
    "duration": 13,
    "start_time": "2025-08-30T16:59:10.975Z"
   },
   {
    "duration": 8,
    "start_time": "2025-08-30T16:59:10.990Z"
   },
   {
    "duration": 3,
    "start_time": "2025-08-30T16:59:11.000Z"
   },
   {
    "duration": 9,
    "start_time": "2025-08-30T16:59:11.007Z"
   },
   {
    "duration": 15,
    "start_time": "2025-08-30T16:59:11.060Z"
   },
   {
    "duration": 8,
    "start_time": "2025-08-30T16:59:11.077Z"
   },
   {
    "duration": 404,
    "start_time": "2025-08-30T16:59:11.087Z"
   },
   {
    "duration": 5,
    "start_time": "2025-08-30T16:59:11.494Z"
   },
   {
    "duration": 12,
    "start_time": "2025-08-30T16:59:11.501Z"
   },
   {
    "duration": 23,
    "start_time": "2025-08-30T16:59:11.516Z"
   },
   {
    "duration": 23,
    "start_time": "2025-08-30T16:59:11.542Z"
   },
   {
    "duration": 11,
    "start_time": "2025-08-30T16:59:11.568Z"
   },
   {
    "duration": 12,
    "start_time": "2025-08-30T16:59:11.582Z"
   },
   {
    "duration": 12,
    "start_time": "2025-08-30T16:59:11.597Z"
   },
   {
    "duration": 61,
    "start_time": "2025-08-30T16:59:11.611Z"
   },
   {
    "duration": 17,
    "start_time": "2025-08-30T16:59:11.674Z"
   },
   {
    "duration": 83,
    "start_time": "2025-08-30T16:59:11.693Z"
   },
   {
    "duration": 14,
    "start_time": "2025-08-30T16:59:11.779Z"
   },
   {
    "duration": 6,
    "start_time": "2025-08-30T16:59:11.796Z"
   },
   {
    "duration": 6,
    "start_time": "2025-08-30T16:59:11.803Z"
   },
   {
    "duration": 7,
    "start_time": "2025-08-30T16:59:11.811Z"
   },
   {
    "duration": 7,
    "start_time": "2025-08-30T16:59:11.861Z"
   },
   {
    "duration": 69,
    "start_time": "2025-08-30T16:59:11.871Z"
   },
   {
    "duration": 4,
    "start_time": "2025-08-30T16:59:11.942Z"
   },
   {
    "duration": 8,
    "start_time": "2025-08-30T16:59:11.948Z"
   },
   {
    "duration": 16,
    "start_time": "2025-08-30T16:59:11.958Z"
   },
   {
    "duration": 11,
    "start_time": "2025-08-30T16:59:11.976Z"
   },
   {
    "duration": 7,
    "start_time": "2025-08-30T16:59:11.990Z"
   },
   {
    "duration": 20,
    "start_time": "2025-08-30T16:59:12.000Z"
   },
   {
    "duration": 65,
    "start_time": "2025-08-30T16:59:12.022Z"
   },
   {
    "duration": 23,
    "start_time": "2025-08-30T16:59:12.090Z"
   },
   {
    "duration": 6,
    "start_time": "2025-08-30T17:08:03.236Z"
   },
   {
    "duration": 93,
    "start_time": "2025-08-30T17:11:04.548Z"
   },
   {
    "duration": 6,
    "start_time": "2025-08-30T17:12:52.086Z"
   },
   {
    "duration": 8,
    "start_time": "2025-08-30T17:15:13.051Z"
   },
   {
    "duration": 10,
    "start_time": "2025-08-30T17:21:29.009Z"
   },
   {
    "duration": 102,
    "start_time": "2025-08-30T17:23:17.676Z"
   },
   {
    "duration": 3100,
    "start_time": "2025-08-30T17:24:45.650Z"
   },
   {
    "duration": 1549,
    "start_time": "2025-08-30T17:24:48.753Z"
   },
   {
    "duration": 148,
    "start_time": "2025-08-30T17:24:50.304Z"
   },
   {
    "duration": 24,
    "start_time": "2025-08-30T17:24:50.455Z"
   },
   {
    "duration": 38,
    "start_time": "2025-08-30T17:24:50.481Z"
   },
   {
    "duration": 8,
    "start_time": "2025-08-30T17:24:50.521Z"
   },
   {
    "duration": 51,
    "start_time": "2025-08-30T17:24:50.532Z"
   },
   {
    "duration": 28,
    "start_time": "2025-08-30T17:24:50.586Z"
   },
   {
    "duration": 9,
    "start_time": "2025-08-30T17:24:50.617Z"
   },
   {
    "duration": 6,
    "start_time": "2025-08-30T17:24:50.631Z"
   },
   {
    "duration": 19,
    "start_time": "2025-08-30T17:24:50.640Z"
   },
   {
    "duration": 18,
    "start_time": "2025-08-30T17:24:50.662Z"
   },
   {
    "duration": 33,
    "start_time": "2025-08-30T17:24:50.682Z"
   },
   {
    "duration": 11,
    "start_time": "2025-08-30T17:24:50.717Z"
   },
   {
    "duration": 9,
    "start_time": "2025-08-30T17:24:50.731Z"
   },
   {
    "duration": 17,
    "start_time": "2025-08-30T17:24:50.765Z"
   },
   {
    "duration": 17,
    "start_time": "2025-08-30T17:24:50.784Z"
   },
   {
    "duration": 773,
    "start_time": "2025-08-30T17:24:50.803Z"
   },
   {
    "duration": 744,
    "start_time": "2025-08-30T17:24:51.579Z"
   },
   {
    "duration": 19,
    "start_time": "2025-08-30T17:24:52.325Z"
   },
   {
    "duration": 48,
    "start_time": "2025-08-30T17:24:52.346Z"
   },
   {
    "duration": 70,
    "start_time": "2025-08-30T17:24:52.396Z"
   },
   {
    "duration": 14,
    "start_time": "2025-08-30T17:24:52.469Z"
   },
   {
    "duration": 10,
    "start_time": "2025-08-30T17:24:52.485Z"
   },
   {
    "duration": 21,
    "start_time": "2025-08-30T17:24:52.498Z"
   },
   {
    "duration": 12,
    "start_time": "2025-08-30T17:24:52.521Z"
   },
   {
    "duration": 67,
    "start_time": "2025-08-30T17:24:52.536Z"
   },
   {
    "duration": 11,
    "start_time": "2025-08-30T17:24:52.609Z"
   },
   {
    "duration": 420,
    "start_time": "2025-08-30T17:24:52.622Z"
   },
   {
    "duration": 5,
    "start_time": "2025-08-30T17:24:53.044Z"
   },
   {
    "duration": 11,
    "start_time": "2025-08-30T17:24:53.051Z"
   },
   {
    "duration": 25,
    "start_time": "2025-08-30T17:24:53.065Z"
   },
   {
    "duration": 13,
    "start_time": "2025-08-30T17:24:53.092Z"
   },
   {
    "duration": 11,
    "start_time": "2025-08-30T17:24:53.107Z"
   },
   {
    "duration": 53,
    "start_time": "2025-08-30T17:24:53.121Z"
   },
   {
    "duration": 16,
    "start_time": "2025-08-30T17:24:53.176Z"
   },
   {
    "duration": 27,
    "start_time": "2025-08-30T17:24:53.194Z"
   },
   {
    "duration": 38,
    "start_time": "2025-08-30T17:24:53.223Z"
   },
   {
    "duration": 66,
    "start_time": "2025-08-30T17:24:53.264Z"
   },
   {
    "duration": 41,
    "start_time": "2025-08-30T17:24:53.331Z"
   },
   {
    "duration": 4,
    "start_time": "2025-08-30T17:24:53.377Z"
   },
   {
    "duration": 88,
    "start_time": "2025-08-30T17:24:53.384Z"
   },
   {
    "duration": 7,
    "start_time": "2025-08-30T17:24:53.475Z"
   },
   {
    "duration": 13,
    "start_time": "2025-08-30T17:24:53.485Z"
   },
   {
    "duration": 5,
    "start_time": "2025-08-30T17:24:53.502Z"
   },
   {
    "duration": 7,
    "start_time": "2025-08-30T17:24:53.509Z"
   },
   {
    "duration": 8,
    "start_time": "2025-08-30T17:24:53.518Z"
   },
   {
    "duration": 40,
    "start_time": "2025-08-30T17:24:53.528Z"
   },
   {
    "duration": 9,
    "start_time": "2025-08-30T17:24:53.571Z"
   },
   {
    "duration": 5,
    "start_time": "2025-08-30T17:24:53.583Z"
   },
   {
    "duration": 24,
    "start_time": "2025-08-30T17:24:53.591Z"
   },
   {
    "duration": 65,
    "start_time": "2025-08-30T17:24:53.617Z"
   },
   {
    "duration": 21,
    "start_time": "2025-08-30T17:24:53.685Z"
   },
   {
    "duration": 718,
    "start_time": "2025-08-30T17:25:34.964Z"
   },
   {
    "duration": 666,
    "start_time": "2025-08-30T17:25:41.465Z"
   },
   {
    "duration": 722,
    "start_time": "2025-08-30T17:25:51.597Z"
   },
   {
    "duration": 8,
    "start_time": "2025-08-30T17:32:49.914Z"
   },
   {
    "duration": 113,
    "start_time": "2025-08-30T17:33:04.472Z"
   },
   {
    "duration": 10,
    "start_time": "2025-08-30T17:37:12.750Z"
   },
   {
    "duration": 7,
    "start_time": "2025-08-30T17:37:22.072Z"
   },
   {
    "duration": 13,
    "start_time": "2025-08-30T17:37:30.205Z"
   },
   {
    "duration": 3,
    "start_time": "2025-08-30T17:38:30.621Z"
   },
   {
    "duration": 6,
    "start_time": "2025-08-30T17:43:18.787Z"
   },
   {
    "duration": 6,
    "start_time": "2025-08-30T17:43:29.572Z"
   },
   {
    "duration": 5,
    "start_time": "2025-08-30T17:44:00.030Z"
   },
   {
    "duration": 5,
    "start_time": "2025-08-30T17:44:07.600Z"
   },
   {
    "duration": 2815,
    "start_time": "2025-08-30T17:46:21.800Z"
   },
   {
    "duration": 1367,
    "start_time": "2025-08-30T17:46:24.618Z"
   },
   {
    "duration": 142,
    "start_time": "2025-08-30T17:46:25.987Z"
   },
   {
    "duration": 20,
    "start_time": "2025-08-30T17:46:26.132Z"
   },
   {
    "duration": 21,
    "start_time": "2025-08-30T17:46:28.870Z"
   },
   {
    "duration": 7,
    "start_time": "2025-08-30T17:46:31.902Z"
   },
   {
    "duration": 6,
    "start_time": "2025-08-30T17:46:32.948Z"
   },
   {
    "duration": 7,
    "start_time": "2025-08-30T17:46:35.514Z"
   },
   {
    "duration": 7,
    "start_time": "2025-08-30T17:46:36.099Z"
   },
   {
    "duration": 4,
    "start_time": "2025-08-30T17:46:39.345Z"
   },
   {
    "duration": 5,
    "start_time": "2025-08-30T17:46:41.357Z"
   },
   {
    "duration": 5,
    "start_time": "2025-08-30T17:46:42.236Z"
   },
   {
    "duration": 690,
    "start_time": "2025-08-30T17:46:51.315Z"
   },
   {
    "duration": 6,
    "start_time": "2025-08-30T17:46:58.776Z"
   },
   {
    "duration": 24,
    "start_time": "2025-08-30T17:47:00.412Z"
   },
   {
    "duration": 12,
    "start_time": "2025-08-30T17:47:02.698Z"
   },
   {
    "duration": 10,
    "start_time": "2025-08-30T17:47:06.865Z"
   },
   {
    "duration": 14,
    "start_time": "2025-08-30T17:47:07.597Z"
   },
   {
    "duration": 9,
    "start_time": "2025-08-30T17:47:09.604Z"
   },
   {
    "duration": 633,
    "start_time": "2025-08-30T17:47:21.370Z"
   },
   {
    "duration": 18,
    "start_time": "2025-08-30T17:47:27.950Z"
   },
   {
    "duration": 21,
    "start_time": "2025-08-30T17:47:30.899Z"
   },
   {
    "duration": 54,
    "start_time": "2025-08-30T17:47:31.746Z"
   },
   {
    "duration": 6,
    "start_time": "2025-08-30T17:47:31.950Z"
   },
   {
    "duration": 11,
    "start_time": "2025-08-30T17:47:32.215Z"
   },
   {
    "duration": 11,
    "start_time": "2025-08-30T17:47:32.637Z"
   },
   {
    "duration": 4,
    "start_time": "2025-08-30T17:47:32.832Z"
   },
   {
    "duration": 13,
    "start_time": "2025-08-30T17:47:33.655Z"
   },
   {
    "duration": 8,
    "start_time": "2025-08-30T17:47:33.994Z"
   },
   {
    "duration": 357,
    "start_time": "2025-08-30T17:47:34.612Z"
   },
   {
    "duration": 6,
    "start_time": "2025-08-30T17:47:35.094Z"
   },
   {
    "duration": 4,
    "start_time": "2025-08-30T17:47:35.259Z"
   },
   {
    "duration": 11,
    "start_time": "2025-08-30T17:47:35.389Z"
   },
   {
    "duration": 13,
    "start_time": "2025-08-30T17:47:35.736Z"
   },
   {
    "duration": 10,
    "start_time": "2025-08-30T17:47:36.048Z"
   },
   {
    "duration": 9,
    "start_time": "2025-08-30T17:47:36.561Z"
   },
   {
    "duration": 5,
    "start_time": "2025-08-30T17:47:36.886Z"
   },
   {
    "duration": 8,
    "start_time": "2025-08-30T17:47:37.056Z"
   },
   {
    "duration": 14,
    "start_time": "2025-08-30T17:47:38.037Z"
   },
   {
    "duration": 14,
    "start_time": "2025-08-30T17:47:38.564Z"
   },
   {
    "duration": 16,
    "start_time": "2025-08-30T17:47:38.890Z"
   },
   {
    "duration": 55,
    "start_time": "2025-08-30T17:47:39.229Z"
   },
   {
    "duration": 15,
    "start_time": "2025-08-30T17:47:39.584Z"
   },
   {
    "duration": 5,
    "start_time": "2025-08-30T17:47:39.763Z"
   },
   {
    "duration": 4,
    "start_time": "2025-08-30T17:47:39.944Z"
   },
   {
    "duration": 5,
    "start_time": "2025-08-30T17:47:40.263Z"
   },
   {
    "duration": 6,
    "start_time": "2025-08-30T17:47:41.431Z"
   },
   {
    "duration": 5,
    "start_time": "2025-08-30T17:47:41.636Z"
   },
   {
    "duration": 6,
    "start_time": "2025-08-30T17:47:41.776Z"
   },
   {
    "duration": 5,
    "start_time": "2025-08-30T17:47:41.944Z"
   },
   {
    "duration": 5,
    "start_time": "2025-08-30T17:47:42.810Z"
   },
   {
    "duration": 7,
    "start_time": "2025-08-30T17:47:43.275Z"
   },
   {
    "duration": 8,
    "start_time": "2025-08-30T17:47:43.737Z"
   },
   {
    "duration": 6,
    "start_time": "2025-08-30T17:47:44.171Z"
   },
   {
    "duration": 5,
    "start_time": "2025-08-30T17:47:44.338Z"
   },
   {
    "duration": 22,
    "start_time": "2025-08-30T17:47:44.723Z"
   },
   {
    "duration": 21,
    "start_time": "2025-08-30T17:47:45.421Z"
   },
   {
    "duration": 20,
    "start_time": "2025-08-30T17:47:46.296Z"
   },
   {
    "duration": 114,
    "start_time": "2025-08-30T17:51:33.733Z"
   },
   {
    "duration": 6,
    "start_time": "2025-08-30T17:51:41.274Z"
   }
  ],
  "colab": {
   "provenance": []
  },
  "kernelspec": {
   "display_name": "Python 3 (ipykernel)",
   "language": "python",
   "name": "python3"
  },
  "language_info": {
   "codemirror_mode": {
    "name": "ipython",
    "version": 3
   },
   "file_extension": ".py",
   "mimetype": "text/x-python",
   "name": "python",
   "nbconvert_exporter": "python",
   "pygments_lexer": "ipython3",
   "version": "3.9.5"
  },
  "toc": {
   "base_numbering": 1,
   "nav_menu": {},
   "number_sections": true,
   "sideBar": true,
   "skip_h1_title": true,
   "title_cell": "Table of Contents",
   "title_sidebar": "Contents",
   "toc_cell": false,
   "toc_position": {},
   "toc_section_display": true,
   "toc_window_display": false
  }
 },
 "nbformat": 4,
 "nbformat_minor": 5
}
